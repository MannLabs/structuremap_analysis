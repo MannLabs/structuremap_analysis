{
 "cells": [
  {
   "cell_type": "markdown",
   "metadata": {},
   "source": [
    "# Import phospho-data from Sugiyama et al."
   ]
  },
  {
   "cell_type": "markdown",
   "metadata": {},
   "source": [
    "This notebook reads the Supplementary Table 2 of Sugiyama et al. (2021) and formats it for analysis with StructureMap."
   ]
  },
  {
   "cell_type": "markdown",
   "metadata": {},
   "source": [
    "https://www.nature.com/articles/s41598-019-46385-4#ref-CR74 "
   ]
  },
  {
   "cell_type": "code",
   "execution_count": 1,
   "metadata": {},
   "outputs": [],
   "source": [
    "import pandas as pd\n",
    "import numpy as np"
   ]
  },
  {
   "cell_type": "markdown",
   "metadata": {},
   "source": [
    "## Phospho data"
   ]
  },
  {
   "cell_type": "code",
   "execution_count": 2,
   "metadata": {},
   "outputs": [],
   "source": [
    "p_sugiyama = pd.read_csv('../data/unformatted_ptm_data/41598_2019_46385_MOESM3_ESM.tsv', sep='\\t')"
   ]
  },
  {
   "cell_type": "code",
   "execution_count": 3,
   "metadata": {},
   "outputs": [
    {
     "data": {
      "text/plain": [
       "'Total of 198536 kinase substrate pairs'"
      ]
     },
     "execution_count": 3,
     "metadata": {},
     "output_type": "execute_result"
    }
   ],
   "source": [
    "'Total of ' + str(p_sugiyama.shape[0]) + ' kinase substrate pairs'"
   ]
  },
  {
   "cell_type": "code",
   "execution_count": 4,
   "metadata": {},
   "outputs": [],
   "source": [
    "p_sugiyama['AA'] = [x[0] for x in p_sugiyama['Position']]\n",
    "p_sugiyama['position'] = [int(x[1:]) for x in p_sugiyama['Position']]\n",
    "p_sugiyama['p_sugiyama'] = 1\n",
    "p_sugiyama = p_sugiyama[['Uniprot ID','AA','position','p_sugiyama']]\n",
    "p_sugiyama = p_sugiyama.drop_duplicates().reset_index(drop=True)"
   ]
  },
  {
   "cell_type": "code",
   "execution_count": 5,
   "metadata": {},
   "outputs": [
    {
     "data": {
      "text/plain": [
       "'Total of 21449 reported phosphosites'"
      ]
     },
     "execution_count": 5,
     "metadata": {},
     "output_type": "execute_result"
    }
   ],
   "source": [
    "'Total of ' + str(p_sugiyama.shape[0]) + ' reported phosphosites'"
   ]
  },
  {
   "cell_type": "markdown",
   "metadata": {},
   "source": [
    "## Annotate UniProt accession"
   ]
  },
  {
   "cell_type": "code",
   "execution_count": 6,
   "metadata": {},
   "outputs": [],
   "source": [
    "uniprot_annotation = pd.read_csv(\"../data/human_fasta/uniprot-filtered-organism__Homo+sapiens+(Human)+[9606]_+AND+review--.tab\", sep='\\t')\n",
    "uniprot_annotation = uniprot_annotation[['Entry','Entry name']]\n",
    "uniprot_annotation = uniprot_annotation.rename(columns={\"Entry\": \"protein_id\",\"Entry name\": \"Uniprot ID\"})"
   ]
  },
  {
   "cell_type": "code",
   "execution_count": 7,
   "metadata": {},
   "outputs": [],
   "source": [
    "p_sugiyama = p_sugiyama.merge(uniprot_annotation, how='left', on=['Uniprot ID'])\n",
    "p_sugiyama = p_sugiyama.fillna(0)"
   ]
  },
  {
   "cell_type": "code",
   "execution_count": 8,
   "metadata": {},
   "outputs": [
    {
     "data": {
      "text/plain": [
       "'Total of 354 proteins with no UniProt mapping.'"
      ]
     },
     "execution_count": 8,
     "metadata": {},
     "output_type": "execute_result"
    }
   ],
   "source": [
    "'Total of ' + str(len(p_sugiyama[p_sugiyama.protein_id==0]['Uniprot ID'].unique())) + ' proteins with no UniProt mapping.'"
   ]
  },
  {
   "cell_type": "code",
   "execution_count": 9,
   "metadata": {},
   "outputs": [
    {
     "data": {
      "text/plain": [
       "'This corresponds to 1401 phosphosites with no UniProt mapping.'"
      ]
     },
     "execution_count": 9,
     "metadata": {},
     "output_type": "execute_result"
    }
   ],
   "source": [
    "'This corresponds to ' + str(p_sugiyama[p_sugiyama.protein_id==0].shape[0]) + ' phosphosites with no UniProt mapping.'"
   ]
  },
  {
   "cell_type": "code",
   "execution_count": 10,
   "metadata": {},
   "outputs": [],
   "source": [
    "p_sugiyama = p_sugiyama[p_sugiyama.protein_id != 0].reset_index(drop=True)"
   ]
  },
  {
   "cell_type": "code",
   "execution_count": 11,
   "metadata": {
    "scrolled": true
   },
   "outputs": [
    {
     "data": {
      "text/plain": [
       "'After filerting, 20048 phosphosites remain.'"
      ]
     },
     "execution_count": 11,
     "metadata": {},
     "output_type": "execute_result"
    }
   ],
   "source": [
    "'After filerting, ' + str(p_sugiyama.shape[0]) + ' phosphosites remain.'"
   ]
  },
  {
   "cell_type": "code",
   "execution_count": 12,
   "metadata": {},
   "outputs": [],
   "source": [
    "p_sugiyama = p_sugiyama[['protein_id','AA','position','p_sugiyama']]"
   ]
  },
  {
   "cell_type": "code",
   "execution_count": 13,
   "metadata": {},
   "outputs": [
    {
     "data": {
      "text/html": [
       "<div>\n",
       "<style scoped>\n",
       "    .dataframe tbody tr th:only-of-type {\n",
       "        vertical-align: middle;\n",
       "    }\n",
       "\n",
       "    .dataframe tbody tr th {\n",
       "        vertical-align: top;\n",
       "    }\n",
       "\n",
       "    .dataframe thead th {\n",
       "        text-align: right;\n",
       "    }\n",
       "</style>\n",
       "<table border=\"1\" class=\"dataframe\">\n",
       "  <thead>\n",
       "    <tr style=\"text-align: right;\">\n",
       "      <th></th>\n",
       "      <th>protein_id</th>\n",
       "      <th>AA</th>\n",
       "      <th>position</th>\n",
       "      <th>p_sugiyama</th>\n",
       "    </tr>\n",
       "  </thead>\n",
       "  <tbody>\n",
       "    <tr>\n",
       "      <th>0</th>\n",
       "      <td>P31946</td>\n",
       "      <td>S</td>\n",
       "      <td>212</td>\n",
       "      <td>1</td>\n",
       "    </tr>\n",
       "    <tr>\n",
       "      <th>1</th>\n",
       "      <td>P31946</td>\n",
       "      <td>Y</td>\n",
       "      <td>151</td>\n",
       "      <td>1</td>\n",
       "    </tr>\n",
       "    <tr>\n",
       "      <th>2</th>\n",
       "      <td>P31946</td>\n",
       "      <td>Y</td>\n",
       "      <td>21</td>\n",
       "      <td>1</td>\n",
       "    </tr>\n",
       "    <tr>\n",
       "      <th>3</th>\n",
       "      <td>P31946</td>\n",
       "      <td>Y</td>\n",
       "      <td>50</td>\n",
       "      <td>1</td>\n",
       "    </tr>\n",
       "    <tr>\n",
       "      <th>4</th>\n",
       "      <td>P62258</td>\n",
       "      <td>Y</td>\n",
       "      <td>152</td>\n",
       "      <td>1</td>\n",
       "    </tr>\n",
       "    <tr>\n",
       "      <th>...</th>\n",
       "      <td>...</td>\n",
       "      <td>...</td>\n",
       "      <td>...</td>\n",
       "      <td>...</td>\n",
       "    </tr>\n",
       "    <tr>\n",
       "      <th>20043</th>\n",
       "      <td>Q9NRA0</td>\n",
       "      <td>T</td>\n",
       "      <td>389</td>\n",
       "      <td>1</td>\n",
       "    </tr>\n",
       "    <tr>\n",
       "      <th>20044</th>\n",
       "      <td>Q9NRA0</td>\n",
       "      <td>T</td>\n",
       "      <td>402</td>\n",
       "      <td>1</td>\n",
       "    </tr>\n",
       "    <tr>\n",
       "      <th>20045</th>\n",
       "      <td>Q9NRA0</td>\n",
       "      <td>T</td>\n",
       "      <td>404</td>\n",
       "      <td>1</td>\n",
       "    </tr>\n",
       "    <tr>\n",
       "      <th>20046</th>\n",
       "      <td>Q9NRA0</td>\n",
       "      <td>T</td>\n",
       "      <td>503</td>\n",
       "      <td>1</td>\n",
       "    </tr>\n",
       "    <tr>\n",
       "      <th>20047</th>\n",
       "      <td>Q9NRA0</td>\n",
       "      <td>T</td>\n",
       "      <td>614</td>\n",
       "      <td>1</td>\n",
       "    </tr>\n",
       "  </tbody>\n",
       "</table>\n",
       "<p>20048 rows × 4 columns</p>\n",
       "</div>"
      ],
      "text/plain": [
       "      protein_id AA  position  p_sugiyama\n",
       "0         P31946  S       212           1\n",
       "1         P31946  Y       151           1\n",
       "2         P31946  Y        21           1\n",
       "3         P31946  Y        50           1\n",
       "4         P62258  Y       152           1\n",
       "...          ... ..       ...         ...\n",
       "20043     Q9NRA0  T       389           1\n",
       "20044     Q9NRA0  T       402           1\n",
       "20045     Q9NRA0  T       404           1\n",
       "20046     Q9NRA0  T       503           1\n",
       "20047     Q9NRA0  T       614           1\n",
       "\n",
       "[20048 rows x 4 columns]"
      ]
     },
     "execution_count": 13,
     "metadata": {},
     "output_type": "execute_result"
    }
   ],
   "source": [
    "p_sugiyama"
   ]
  },
  {
   "cell_type": "code",
   "execution_count": 14,
   "metadata": {},
   "outputs": [],
   "source": [
    "p_sugiyama.to_csv('../data/ptm_data/p_sugiyama.csv', index=False)"
   ]
  },
  {
   "cell_type": "markdown",
   "metadata": {},
   "source": [
    "It's important to keep in mind that the sites from Sugiyama et al. were not remapped to the most recent protein fasta. Some phosphosites might therefore not match correctly. However, this is expected to only affect a minority of proteins and phosphosites. "
   ]
  },
  {
   "cell_type": "code",
   "execution_count": null,
   "metadata": {},
   "outputs": [],
   "source": []
  }
 ],
 "metadata": {
  "kernelspec": {
   "display_name": "Python [conda env:alphamap_fold]",
   "language": "python",
   "name": "conda-env-alphamap_fold-py"
  },
  "language_info": {
   "codemirror_mode": {
    "name": "ipython",
    "version": 3
   },
   "file_extension": ".py",
   "mimetype": "text/x-python",
   "name": "python",
   "nbconvert_exporter": "python",
   "pygments_lexer": "ipython3",
   "version": "3.8.12"
  }
 },
 "nbformat": 4,
 "nbformat_minor": 2
}
