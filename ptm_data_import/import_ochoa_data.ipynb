{
 "cells": [
  {
   "cell_type": "markdown",
   "metadata": {},
   "source": [
    "# Import phospho-data from Ochoa et al."
   ]
  },
  {
   "cell_type": "markdown",
   "metadata": {},
   "source": [
    "This notebook reads the Supplementary Table 3 of Ochoa et al. (2021) and formats it for analysis with StructureMap."
   ]
  },
  {
   "cell_type": "markdown",
   "metadata": {},
   "source": [
    "https://www.nature.com/articles/s41587-019-0344-3"
   ]
  },
  {
   "cell_type": "markdown",
   "metadata": {},
   "source": [
    "## Import libraries"
   ]
  },
  {
   "cell_type": "code",
   "execution_count": 1,
   "metadata": {},
   "outputs": [],
   "source": [
    "import pandas as pd\n",
    "import numpy as np\n",
    "import re"
   ]
  },
  {
   "cell_type": "markdown",
   "metadata": {},
   "source": [
    "## Phospho data"
   ]
  },
  {
   "cell_type": "markdown",
   "metadata": {},
   "source": [
    "Here, we take all phosphosites with functional scores annotated in Supplementary table 3."
   ]
  },
  {
   "cell_type": "code",
   "execution_count": 2,
   "metadata": {},
   "outputs": [
    {
     "data": {
      "text/html": [
       "<div>\n",
       "<style scoped>\n",
       "    .dataframe tbody tr th:only-of-type {\n",
       "        vertical-align: middle;\n",
       "    }\n",
       "\n",
       "    .dataframe tbody tr th {\n",
       "        vertical-align: top;\n",
       "    }\n",
       "\n",
       "    .dataframe thead th {\n",
       "        text-align: right;\n",
       "    }\n",
       "</style>\n",
       "<table border=\"1\" class=\"dataframe\">\n",
       "  <thead>\n",
       "    <tr style=\"text-align: right;\">\n",
       "      <th></th>\n",
       "      <th>protein_id</th>\n",
       "      <th>position</th>\n",
       "      <th>functional_score</th>\n",
       "    </tr>\n",
       "  </thead>\n",
       "  <tbody>\n",
       "    <tr>\n",
       "      <th>0</th>\n",
       "      <td>A0A075B6Q4</td>\n",
       "      <td>24</td>\n",
       "      <td>0.149257</td>\n",
       "    </tr>\n",
       "    <tr>\n",
       "      <th>1</th>\n",
       "      <td>A0A075B6Q4</td>\n",
       "      <td>68</td>\n",
       "      <td>0.119811</td>\n",
       "    </tr>\n",
       "    <tr>\n",
       "      <th>2</th>\n",
       "      <td>A0A075B6T3</td>\n",
       "      <td>24</td>\n",
       "      <td>0.477724</td>\n",
       "    </tr>\n",
       "  </tbody>\n",
       "</table>\n",
       "</div>"
      ],
      "text/plain": [
       "   protein_id  position  functional_score\n",
       "0  A0A075B6Q4        24          0.149257\n",
       "1  A0A075B6Q4        68          0.119811\n",
       "2  A0A075B6T3        24          0.477724"
      ]
     },
     "execution_count": 2,
     "metadata": {},
     "output_type": "execute_result"
    }
   ],
   "source": [
    "functional_phospho = pd.read_csv('../data/unformatted_ptm_data/41587_2019_344_MOESM5_ESM.tsv', sep='\\t')\n",
    "functional_phospho = functional_phospho.rename(columns={\"uniprot\": \"protein_id\"})\n",
    "functional_phospho.functional_score = [float(re.sub(',','.',str(i))) for i in functional_phospho.functional_score.values]\n",
    "functional_phospho[0:3]"
   ]
  },
  {
   "cell_type": "code",
   "execution_count": 3,
   "metadata": {},
   "outputs": [
    {
     "data": {
      "text/html": [
       "<div>\n",
       "<style scoped>\n",
       "    .dataframe tbody tr th:only-of-type {\n",
       "        vertical-align: middle;\n",
       "    }\n",
       "\n",
       "    .dataframe tbody tr th {\n",
       "        vertical-align: top;\n",
       "    }\n",
       "\n",
       "    .dataframe thead th {\n",
       "        text-align: right;\n",
       "    }\n",
       "</style>\n",
       "<table border=\"1\" class=\"dataframe\">\n",
       "  <thead>\n",
       "    <tr style=\"text-align: right;\">\n",
       "      <th></th>\n",
       "      <th>protein_id</th>\n",
       "      <th>position</th>\n",
       "      <th>functional_score</th>\n",
       "      <th>p_functional_0</th>\n",
       "      <th>p_functional_5</th>\n",
       "      <th>p_functional_6</th>\n",
       "      <th>p_functional_7</th>\n",
       "      <th>p_functional_8</th>\n",
       "      <th>p_functional_9</th>\n",
       "    </tr>\n",
       "  </thead>\n",
       "  <tbody>\n",
       "    <tr>\n",
       "      <th>0</th>\n",
       "      <td>A0A075B6Q4</td>\n",
       "      <td>24</td>\n",
       "      <td>0.149257</td>\n",
       "      <td>1</td>\n",
       "      <td>0</td>\n",
       "      <td>0</td>\n",
       "      <td>0</td>\n",
       "      <td>0</td>\n",
       "      <td>0</td>\n",
       "    </tr>\n",
       "    <tr>\n",
       "      <th>1</th>\n",
       "      <td>A0A075B6Q4</td>\n",
       "      <td>68</td>\n",
       "      <td>0.119811</td>\n",
       "      <td>1</td>\n",
       "      <td>0</td>\n",
       "      <td>0</td>\n",
       "      <td>0</td>\n",
       "      <td>0</td>\n",
       "      <td>0</td>\n",
       "    </tr>\n",
       "    <tr>\n",
       "      <th>2</th>\n",
       "      <td>A0A075B6T3</td>\n",
       "      <td>24</td>\n",
       "      <td>0.477724</td>\n",
       "      <td>1</td>\n",
       "      <td>0</td>\n",
       "      <td>0</td>\n",
       "      <td>0</td>\n",
       "      <td>0</td>\n",
       "      <td>0</td>\n",
       "    </tr>\n",
       "  </tbody>\n",
       "</table>\n",
       "</div>"
      ],
      "text/plain": [
       "   protein_id  position  functional_score  p_functional_0  p_functional_5  \\\n",
       "0  A0A075B6Q4        24          0.149257               1               0   \n",
       "1  A0A075B6Q4        68          0.119811               1               0   \n",
       "2  A0A075B6T3        24          0.477724               1               0   \n",
       "\n",
       "   p_functional_6  p_functional_7  p_functional_8  p_functional_9  \n",
       "0               0               0               0               0  \n",
       "1               0               0               0               0  \n",
       "2               0               0               0               0  "
      ]
     },
     "execution_count": 3,
     "metadata": {},
     "output_type": "execute_result"
    }
   ],
   "source": [
    "functional_phospho['p_functional_0'] = [1 if i > 0 else 0 for i in functional_phospho.functional_score.values]\n",
    "functional_phospho['p_functional_5'] = [1 if i >= 0.5 else 0 for i in functional_phospho.functional_score.values]\n",
    "functional_phospho['p_functional_6'] = [1 if i >= 0.6 else 0 for i in functional_phospho.functional_score.values]\n",
    "functional_phospho['p_functional_7'] = [1 if i >= 0.7 else 0 for i in functional_phospho.functional_score.values]\n",
    "functional_phospho['p_functional_8'] = [1 if i >= 0.8 else 0 for i in functional_phospho.functional_score.values]\n",
    "functional_phospho['p_functional_9'] = [1 if i >= 0.9 else 0 for i in functional_phospho.functional_score.values]\n",
    "functional_phospho[0:3]"
   ]
  },
  {
   "cell_type": "code",
   "execution_count": 4,
   "metadata": {},
   "outputs": [],
   "source": [
    "functional_phospho.to_csv('../data/ptm_data/p_ochoa.csv', index=False)"
   ]
  },
  {
   "cell_type": "markdown",
   "metadata": {},
   "source": [
    "It's important to keep in mind that the sites from Ochoa et al. were not remapped to the most recent protein fasta. Some phosphosites might therefore not match correctly. However, this is expected to only affect a minority of proteins and phosphosites. "
   ]
  },
  {
   "cell_type": "code",
   "execution_count": null,
   "metadata": {},
   "outputs": [],
   "source": []
  }
 ],
 "metadata": {
  "kernelspec": {
   "display_name": "Python [conda env:alphamap_fold]",
   "language": "python",
   "name": "conda-env-alphamap_fold-py"
  },
  "language_info": {
   "codemirror_mode": {
    "name": "ipython",
    "version": 3
   },
   "file_extension": ".py",
   "mimetype": "text/x-python",
   "name": "python",
   "nbconvert_exporter": "python",
   "pygments_lexer": "ipython3",
   "version": "3.8.12"
  }
 },
 "nbformat": 4,
 "nbformat_minor": 2
}
