{
 "cells": [
  {
   "cell_type": "markdown",
   "metadata": {},
   "source": [
    "# Import phospho-data from Stukalov et al."
   ]
  },
  {
   "cell_type": "markdown",
   "metadata": {},
   "source": [
    "This notebook reads the Supplementary Table 7 of Stukalov et al. (2021) and formats it for analysis with StructureMap."
   ]
  },
  {
   "cell_type": "markdown",
   "metadata": {},
   "source": [
    "https://www.nature.com/articles/s41586-021-03493-4#Sec37"
   ]
  },
  {
   "cell_type": "markdown",
   "metadata": {},
   "source": [
    "## Import libraries"
   ]
  },
  {
   "cell_type": "code",
   "execution_count": 1,
   "metadata": {},
   "outputs": [],
   "source": [
    "import pandas as pd\n",
    "import numpy as np"
   ]
  },
  {
   "cell_type": "markdown",
   "metadata": {},
   "source": [
    "## Phospho data"
   ]
  },
  {
   "cell_type": "code",
   "execution_count": 2,
   "metadata": {},
   "outputs": [],
   "source": [
    "data_phospho = pd.read_csv('../data/unformatted_ptm_data/41586_2021_3493_MOESM11_ESM.txt', sep='\\t') "
   ]
  },
  {
   "cell_type": "code",
   "execution_count": 3,
   "metadata": {},
   "outputs": [],
   "source": [
    "hit_cols = list(data_phospho.filter(regex='is_hit').columns)\n",
    "data_phospho['hit_sum'] = data_phospho[hit_cols].sum(axis=1)\n",
    "data_phospho = data_phospho[['protein_ac','ptm_pos','ptm_AA','hit_sum']]\n",
    "data_phospho = data_phospho.drop_duplicates().reset_index(drop=True)\n",
    "\n",
    "data_phospho['p_stukalov'] = 1\n",
    "#data_phospho['p_stukalov_reg'] = [1 if x > 0 else 0 for x in data_phospho.hit_sum]\n",
    "data_phospho = data_phospho.drop(columns=['hit_sum'])\n",
    "\n",
    "data_phospho = data_phospho.rename(columns={\"protein_ac\": \"protein_id\", \n",
    "                                    \"ptm_pos\": \"position\",\n",
    "                                    \"ptm_AA\":'AA'})"
   ]
  },
  {
   "cell_type": "code",
   "execution_count": 4,
   "metadata": {},
   "outputs": [
    {
     "data": {
      "text/html": [
       "<div>\n",
       "<style scoped>\n",
       "    .dataframe tbody tr th:only-of-type {\n",
       "        vertical-align: middle;\n",
       "    }\n",
       "\n",
       "    .dataframe tbody tr th {\n",
       "        vertical-align: top;\n",
       "    }\n",
       "\n",
       "    .dataframe thead th {\n",
       "        text-align: right;\n",
       "    }\n",
       "</style>\n",
       "<table border=\"1\" class=\"dataframe\">\n",
       "  <thead>\n",
       "    <tr style=\"text-align: right;\">\n",
       "      <th></th>\n",
       "      <th>protein_id</th>\n",
       "      <th>position</th>\n",
       "      <th>AA</th>\n",
       "      <th>p_stukalov</th>\n",
       "    </tr>\n",
       "  </thead>\n",
       "  <tbody>\n",
       "    <tr>\n",
       "      <th>0</th>\n",
       "      <td>Q9NRG9</td>\n",
       "      <td>495</td>\n",
       "      <td>S</td>\n",
       "      <td>1</td>\n",
       "    </tr>\n",
       "    <tr>\n",
       "      <th>1</th>\n",
       "      <td>Q9NRG9</td>\n",
       "      <td>525</td>\n",
       "      <td>S</td>\n",
       "      <td>1</td>\n",
       "    </tr>\n",
       "    <tr>\n",
       "      <th>2</th>\n",
       "      <td>Q9NRG9</td>\n",
       "      <td>541</td>\n",
       "      <td>S</td>\n",
       "      <td>1</td>\n",
       "    </tr>\n",
       "    <tr>\n",
       "      <th>3</th>\n",
       "      <td>Q9NRG9</td>\n",
       "      <td>544</td>\n",
       "      <td>S</td>\n",
       "      <td>1</td>\n",
       "    </tr>\n",
       "    <tr>\n",
       "      <th>4</th>\n",
       "      <td>Q2M2I8</td>\n",
       "      <td>18</td>\n",
       "      <td>S</td>\n",
       "      <td>1</td>\n",
       "    </tr>\n",
       "    <tr>\n",
       "      <th>...</th>\n",
       "      <td>...</td>\n",
       "      <td>...</td>\n",
       "      <td>...</td>\n",
       "      <td>...</td>\n",
       "    </tr>\n",
       "    <tr>\n",
       "      <th>16428</th>\n",
       "      <td>O43149</td>\n",
       "      <td>2443</td>\n",
       "      <td>S</td>\n",
       "      <td>1</td>\n",
       "    </tr>\n",
       "    <tr>\n",
       "      <th>16429</th>\n",
       "      <td>O43149</td>\n",
       "      <td>2444</td>\n",
       "      <td>S</td>\n",
       "      <td>1</td>\n",
       "    </tr>\n",
       "    <tr>\n",
       "      <th>16430</th>\n",
       "      <td>Q8IYH5</td>\n",
       "      <td>82</td>\n",
       "      <td>S</td>\n",
       "      <td>1</td>\n",
       "    </tr>\n",
       "    <tr>\n",
       "      <th>16431</th>\n",
       "      <td>Q8IYH5</td>\n",
       "      <td>113</td>\n",
       "      <td>S</td>\n",
       "      <td>1</td>\n",
       "    </tr>\n",
       "    <tr>\n",
       "      <th>16432</th>\n",
       "      <td>Q8IYH5</td>\n",
       "      <td>391</td>\n",
       "      <td>S</td>\n",
       "      <td>1</td>\n",
       "    </tr>\n",
       "  </tbody>\n",
       "</table>\n",
       "<p>16433 rows × 4 columns</p>\n",
       "</div>"
      ],
      "text/plain": [
       "      protein_id  position AA  p_stukalov\n",
       "0         Q9NRG9       495  S           1\n",
       "1         Q9NRG9       525  S           1\n",
       "2         Q9NRG9       541  S           1\n",
       "3         Q9NRG9       544  S           1\n",
       "4         Q2M2I8        18  S           1\n",
       "...          ...       ... ..         ...\n",
       "16428     O43149      2443  S           1\n",
       "16429     O43149      2444  S           1\n",
       "16430     Q8IYH5        82  S           1\n",
       "16431     Q8IYH5       113  S           1\n",
       "16432     Q8IYH5       391  S           1\n",
       "\n",
       "[16433 rows x 4 columns]"
      ]
     },
     "execution_count": 4,
     "metadata": {},
     "output_type": "execute_result"
    }
   ],
   "source": [
    "data_phospho "
   ]
  },
  {
   "cell_type": "code",
   "execution_count": 5,
   "metadata": {},
   "outputs": [],
   "source": [
    "data_phospho.to_csv('../data/ptm_data/p_stukalov.csv', index=False)"
   ]
  }
 ],
 "metadata": {
  "kernelspec": {
   "display_name": "Python [conda env:alphamap_fold]",
   "language": "python",
   "name": "conda-env-alphamap_fold-py"
  },
  "language_info": {
   "codemirror_mode": {
    "name": "ipython",
    "version": 3
   },
   "file_extension": ".py",
   "mimetype": "text/x-python",
   "name": "python",
   "nbconvert_exporter": "python",
   "pygments_lexer": "ipython3",
   "version": "3.8.12"
  }
 },
 "nbformat": 4,
 "nbformat_minor": 2
}
