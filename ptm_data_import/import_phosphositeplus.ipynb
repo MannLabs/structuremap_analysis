{
 "cells": [
  {
   "cell_type": "markdown",
   "metadata": {},
   "source": [
    "# Import and format phosphositeplus data"
   ]
  },
  {
   "cell_type": "markdown",
   "metadata": {},
   "source": [
    "https://academic.oup.com/nar/article/47/D1/D433/5184725?login=true"
   ]
  },
  {
   "cell_type": "markdown",
   "metadata": {},
   "source": [
    "https://www.phosphosite.org/ "
   ]
  },
  {
   "cell_type": "code",
   "execution_count": 1,
   "metadata": {},
   "outputs": [],
   "source": [
    "import pandas as pd\n",
    "import numpy as np\n",
    "import re"
   ]
  },
  {
   "cell_type": "markdown",
   "metadata": {},
   "source": [
    "Due to the PhosphoSitePlus license, users need to [download](https://www.phosphosite.org/staticDownloads) the following files themselves prior to running this analysis."
   ]
  },
  {
   "cell_type": "code",
   "execution_count": 2,
   "metadata": {},
   "outputs": [],
   "source": [
    "df_phospho = pd.read_csv('../data/unformatted_ptm_data/Phosphorylation_site_dataset', sep='\\t', skiprows=2)"
   ]
  },
  {
   "cell_type": "code",
   "execution_count": 3,
   "metadata": {},
   "outputs": [],
   "source": [
    "df_ubi = pd.read_csv('../data/unformatted_ptm_data/Ubiquitination_site_dataset', sep='\\t', skiprows=2,low_memory=False)"
   ]
  },
  {
   "cell_type": "code",
   "execution_count": 4,
   "metadata": {},
   "outputs": [],
   "source": [
    "df_sumo = pd.read_csv('../data/unformatted_ptm_data/Sumoylation_site_dataset', sep='\\t', skiprows=2,low_memory=False)"
   ]
  },
  {
   "cell_type": "code",
   "execution_count": 5,
   "metadata": {},
   "outputs": [],
   "source": [
    "df_acetyl = pd.read_csv('../data/unformatted_ptm_data/Acetylation_site_dataset', sep='\\t', skiprows=2,low_memory=False)"
   ]
  },
  {
   "cell_type": "code",
   "execution_count": 6,
   "metadata": {},
   "outputs": [],
   "source": [
    "df_methyl = pd.read_csv('../data/unformatted_ptm_data/Methylation_site_dataset', sep='\\t', skiprows=2,low_memory=False)"
   ]
  },
  {
   "cell_type": "code",
   "execution_count": 7,
   "metadata": {},
   "outputs": [],
   "source": [
    "df_GalNAc = pd.read_csv('../data/unformatted_ptm_data/O-GalNAc_site_dataset', sep='\\t', skiprows=2,low_memory=False)"
   ]
  },
  {
   "cell_type": "code",
   "execution_count": 8,
   "metadata": {},
   "outputs": [],
   "source": [
    "df_GlcNAc = pd.read_csv('../data/unformatted_ptm_data/O-GlcNAc_site_dataset', sep='\\t', skiprows=2,low_memory=False)"
   ]
  },
  {
   "cell_type": "code",
   "execution_count": 9,
   "metadata": {},
   "outputs": [],
   "source": [
    "df_regulatory = pd.read_csv('../data/unformatted_ptm_data/Regulatory_sites', sep='\\t', skiprows=2,low_memory=False)"
   ]
  },
  {
   "cell_type": "code",
   "execution_count": 10,
   "metadata": {},
   "outputs": [
    {
     "data": {
      "text/html": [
       "<div>\n",
       "<style scoped>\n",
       "    .dataframe tbody tr th:only-of-type {\n",
       "        vertical-align: middle;\n",
       "    }\n",
       "\n",
       "    .dataframe tbody tr th {\n",
       "        vertical-align: top;\n",
       "    }\n",
       "\n",
       "    .dataframe thead th {\n",
       "        text-align: right;\n",
       "    }\n",
       "</style>\n",
       "<table border=\"1\" class=\"dataframe\">\n",
       "  <thead>\n",
       "    <tr style=\"text-align: right;\">\n",
       "      <th></th>\n",
       "      <th>GENE</th>\n",
       "      <th>PROTEIN</th>\n",
       "      <th>PROT_TYPE</th>\n",
       "      <th>ACC_ID</th>\n",
       "      <th>GENE_ID</th>\n",
       "      <th>HU_CHR_LOC</th>\n",
       "      <th>ORGANISM</th>\n",
       "      <th>MOD_RSD</th>\n",
       "      <th>SITE_GRP_ID</th>\n",
       "      <th>SITE_+/-7_AA</th>\n",
       "      <th>...</th>\n",
       "      <th>ON_FUNCTION</th>\n",
       "      <th>ON_PROCESS</th>\n",
       "      <th>ON_PROT_INTERACT</th>\n",
       "      <th>ON_OTHER_INTERACT</th>\n",
       "      <th>PMIDs</th>\n",
       "      <th>LT_LIT</th>\n",
       "      <th>MS_LIT</th>\n",
       "      <th>MS_CST</th>\n",
       "      <th>NOTES</th>\n",
       "      <th>Unnamed: 20</th>\n",
       "    </tr>\n",
       "  </thead>\n",
       "  <tbody>\n",
       "    <tr>\n",
       "      <th>0</th>\n",
       "      <td>AQP2</td>\n",
       "      <td>AQP2</td>\n",
       "      <td>Channel, misc.; Membrane protein, integral; Me...</td>\n",
       "      <td>P41181</td>\n",
       "      <td>359.0</td>\n",
       "      <td>12q13.12</td>\n",
       "      <td>human</td>\n",
       "      <td>K270-ub</td>\n",
       "      <td>999601</td>\n",
       "      <td>QSLPRGTkA______</td>\n",
       "      <td>...</td>\n",
       "      <td>protein degradation; intracellular localizatio...</td>\n",
       "      <td>NaN</td>\n",
       "      <td>NaN</td>\n",
       "      <td>NaN</td>\n",
       "      <td>21209006</td>\n",
       "      <td>6</td>\n",
       "      <td>0</td>\n",
       "      <td>0</td>\n",
       "      <td>stimulates phosphorylation of S261</td>\n",
       "      <td>NaN</td>\n",
       "    </tr>\n",
       "    <tr>\n",
       "      <th>1</th>\n",
       "      <td>Pdpk1</td>\n",
       "      <td>PDK1</td>\n",
       "      <td>EC 2.7.11.1; KINASE; Kinase, protein; Nuclear ...</td>\n",
       "      <td>O55173</td>\n",
       "      <td>81745.0</td>\n",
       "      <td>10q12</td>\n",
       "      <td>rat</td>\n",
       "      <td>Y379-p</td>\n",
       "      <td>447695</td>\n",
       "      <td>DEDCYGNyDNLLSQF</td>\n",
       "      <td>...</td>\n",
       "      <td>enzymatic activity, induced</td>\n",
       "      <td>translation, altered; cell adhesion, altered</td>\n",
       "      <td>NaN</td>\n",
       "      <td>NaN</td>\n",
       "      <td>18559349</td>\n",
       "      <td>8</td>\n",
       "      <td>1</td>\n",
       "      <td>0</td>\n",
       "      <td>Induces fibronectin expression and deposition ...</td>\n",
       "      <td>NaN</td>\n",
       "    </tr>\n",
       "    <tr>\n",
       "      <th>2</th>\n",
       "      <td>CD200R1</td>\n",
       "      <td>CD200R</td>\n",
       "      <td>Membrane protein, integral; Receptor, misc.</td>\n",
       "      <td>Q8TD46</td>\n",
       "      <td>131450.0</td>\n",
       "      <td>3q13.2</td>\n",
       "      <td>human</td>\n",
       "      <td>Y302-p</td>\n",
       "      <td>458379</td>\n",
       "      <td>TEKNNPLyDTTNKVK</td>\n",
       "      <td>...</td>\n",
       "      <td>molecular association, regulation</td>\n",
       "      <td>NaN</td>\n",
       "      <td>DOK2(INDUCES)</td>\n",
       "      <td>NaN</td>\n",
       "      <td>19786546</td>\n",
       "      <td>2</td>\n",
       "      <td>2</td>\n",
       "      <td>11</td>\n",
       "      <td>recruitment of RasGAP by Dok2</td>\n",
       "      <td>NaN</td>\n",
       "    </tr>\n",
       "  </tbody>\n",
       "</table>\n",
       "<p>3 rows × 21 columns</p>\n",
       "</div>"
      ],
      "text/plain": [
       "      GENE PROTEIN                                          PROT_TYPE  ACC_ID  \\\n",
       "0     AQP2    AQP2  Channel, misc.; Membrane protein, integral; Me...  P41181   \n",
       "1    Pdpk1    PDK1  EC 2.7.11.1; KINASE; Kinase, protein; Nuclear ...  O55173   \n",
       "2  CD200R1  CD200R        Membrane protein, integral; Receptor, misc.  Q8TD46   \n",
       "\n",
       "    GENE_ID HU_CHR_LOC ORGANISM  MOD_RSD  SITE_GRP_ID     SITE_+/-7_AA  ...  \\\n",
       "0     359.0   12q13.12    human  K270-ub       999601  QSLPRGTkA______  ...   \n",
       "1   81745.0      10q12      rat   Y379-p       447695  DEDCYGNyDNLLSQF  ...   \n",
       "2  131450.0     3q13.2    human   Y302-p       458379  TEKNNPLyDTTNKVK  ...   \n",
       "\n",
       "                                         ON_FUNCTION  \\\n",
       "0  protein degradation; intracellular localizatio...   \n",
       "1                        enzymatic activity, induced   \n",
       "2                  molecular association, regulation   \n",
       "\n",
       "                                     ON_PROCESS ON_PROT_INTERACT  \\\n",
       "0                                           NaN              NaN   \n",
       "1  translation, altered; cell adhesion, altered              NaN   \n",
       "2                                           NaN    DOK2(INDUCES)   \n",
       "\n",
       "  ON_OTHER_INTERACT     PMIDs LT_LIT  MS_LIT  MS_CST  \\\n",
       "0               NaN  21209006      6       0       0   \n",
       "1               NaN  18559349      8       1       0   \n",
       "2               NaN  19786546      2       2      11   \n",
       "\n",
       "                                               NOTES Unnamed: 20  \n",
       "0                 stimulates phosphorylation of S261         NaN  \n",
       "1  Induces fibronectin expression and deposition ...         NaN  \n",
       "2                      recruitment of RasGAP by Dok2         NaN  \n",
       "\n",
       "[3 rows x 21 columns]"
      ]
     },
     "execution_count": 10,
     "metadata": {},
     "output_type": "execute_result"
    }
   ],
   "source": [
    "df_regulatory[0:3]"
   ]
  },
  {
   "cell_type": "code",
   "execution_count": 11,
   "metadata": {},
   "outputs": [],
   "source": [
    "def format_ptm_data(df_site):\n",
    "    df = df_site.copy(deep=True)\n",
    "    # subset to human\n",
    "    df = df[df.ORGANISM=='human']\n",
    "    # extract modified residue, modification type and position\n",
    "    df['rsite'] = [re.sub('-.+','',i) for i in df['MOD_RSD']]\n",
    "    df['mod'] = [re.sub('.*-','',i) for i in df['MOD_RSD']]\n",
    "    df['mod_AA'] = [re.sub('\\d+','',i) for i in df['rsite']]\n",
    "    df['mod_position'] = [re.sub('[A-Z]+','',i) for i in df['rsite']]\n",
    "    # subset to necessart information\n",
    "    df = df[['ACC_ID','mod_AA','mod_position','mod']]\n",
    "    df = df.rename(columns={\"ACC_ID\": \"protein_id\", \"mod_AA\": \"AA\", \"mod_position\": \"position\", \"mod\": \"ptm\"})\n",
    "    # reset index\n",
    "    df = df.reset_index(drop=True)\n",
    "    \n",
    "    return(df)"
   ]
  },
  {
   "cell_type": "code",
   "execution_count": 12,
   "metadata": {},
   "outputs": [],
   "source": [
    "df_phospho_f = format_ptm_data(df_phospho)\n",
    "df_ubi_f = format_ptm_data(df_ubi)\n",
    "df_sumo_f = format_ptm_data(df_sumo)\n",
    "df_acetyl_f = format_ptm_data(df_acetyl)\n",
    "df_methyl_f = format_ptm_data(df_methyl)\n",
    "df_GalNAc_f = format_ptm_data(df_GalNAc)\n",
    "df_GlcNAc_f = format_ptm_data(df_GlcNAc)\n",
    "df_regulatory_f = format_ptm_data(df_regulatory)"
   ]
  },
  {
   "cell_type": "code",
   "execution_count": 13,
   "metadata": {},
   "outputs": [
    {
     "data": {
      "text/html": [
       "<div>\n",
       "<style scoped>\n",
       "    .dataframe tbody tr th:only-of-type {\n",
       "        vertical-align: middle;\n",
       "    }\n",
       "\n",
       "    .dataframe tbody tr th {\n",
       "        vertical-align: top;\n",
       "    }\n",
       "\n",
       "    .dataframe thead th {\n",
       "        text-align: right;\n",
       "    }\n",
       "</style>\n",
       "<table border=\"1\" class=\"dataframe\">\n",
       "  <thead>\n",
       "    <tr style=\"text-align: right;\">\n",
       "      <th></th>\n",
       "      <th>protein_id</th>\n",
       "      <th>AA</th>\n",
       "      <th>position</th>\n",
       "      <th>ptm</th>\n",
       "    </tr>\n",
       "  </thead>\n",
       "  <tbody>\n",
       "    <tr>\n",
       "      <th>0</th>\n",
       "      <td>P41181</td>\n",
       "      <td>K</td>\n",
       "      <td>270</td>\n",
       "      <td>ub</td>\n",
       "    </tr>\n",
       "    <tr>\n",
       "      <th>1</th>\n",
       "      <td>Q8TD46</td>\n",
       "      <td>Y</td>\n",
       "      <td>302</td>\n",
       "      <td>p</td>\n",
       "    </tr>\n",
       "    <tr>\n",
       "      <th>2</th>\n",
       "      <td>P60484</td>\n",
       "      <td>S</td>\n",
       "      <td>380</td>\n",
       "      <td>p</td>\n",
       "    </tr>\n",
       "    <tr>\n",
       "      <th>3</th>\n",
       "      <td>P10636-8</td>\n",
       "      <td>T</td>\n",
       "      <td>231</td>\n",
       "      <td>p</td>\n",
       "    </tr>\n",
       "    <tr>\n",
       "      <th>4</th>\n",
       "      <td>Q9UPY3</td>\n",
       "      <td>S</td>\n",
       "      <td>1016</td>\n",
       "      <td>p</td>\n",
       "    </tr>\n",
       "    <tr>\n",
       "      <th>...</th>\n",
       "      <td>...</td>\n",
       "      <td>...</td>\n",
       "      <td>...</td>\n",
       "      <td>...</td>\n",
       "    </tr>\n",
       "    <tr>\n",
       "      <th>11229</th>\n",
       "      <td>P31749</td>\n",
       "      <td>T</td>\n",
       "      <td>308</td>\n",
       "      <td>p</td>\n",
       "    </tr>\n",
       "    <tr>\n",
       "      <th>11230</th>\n",
       "      <td>Q14247</td>\n",
       "      <td>K</td>\n",
       "      <td>198</td>\n",
       "      <td>ac</td>\n",
       "    </tr>\n",
       "    <tr>\n",
       "      <th>11231</th>\n",
       "      <td>Q9Y261</td>\n",
       "      <td>K</td>\n",
       "      <td>264</td>\n",
       "      <td>ac</td>\n",
       "    </tr>\n",
       "    <tr>\n",
       "      <th>11232</th>\n",
       "      <td>P16144</td>\n",
       "      <td>S</td>\n",
       "      <td>1494</td>\n",
       "      <td>p</td>\n",
       "    </tr>\n",
       "    <tr>\n",
       "      <th>11233</th>\n",
       "      <td>Q9BZS1</td>\n",
       "      <td>Y</td>\n",
       "      <td>342</td>\n",
       "      <td>p</td>\n",
       "    </tr>\n",
       "  </tbody>\n",
       "</table>\n",
       "<p>11234 rows × 4 columns</p>\n",
       "</div>"
      ],
      "text/plain": [
       "      protein_id AA position ptm\n",
       "0         P41181  K      270  ub\n",
       "1         Q8TD46  Y      302   p\n",
       "2         P60484  S      380   p\n",
       "3       P10636-8  T      231   p\n",
       "4         Q9UPY3  S     1016   p\n",
       "...          ... ..      ...  ..\n",
       "11229     P31749  T      308   p\n",
       "11230     Q14247  K      198  ac\n",
       "11231     Q9Y261  K      264  ac\n",
       "11232     P16144  S     1494   p\n",
       "11233     Q9BZS1  Y      342   p\n",
       "\n",
       "[11234 rows x 4 columns]"
      ]
     },
     "execution_count": 13,
     "metadata": {},
     "output_type": "execute_result"
    }
   ],
   "source": [
    "df_regulatory_f"
   ]
  },
  {
   "cell_type": "markdown",
   "metadata": {},
   "source": [
    "## Count number of AA residues modified per PTM type to generate a ptm_site_dict"
   ]
  },
  {
   "cell_type": "code",
   "execution_count": 14,
   "metadata": {},
   "outputs": [],
   "source": [
    "from collections import Counter"
   ]
  },
  {
   "cell_type": "code",
   "execution_count": 15,
   "metadata": {},
   "outputs": [
    {
     "data": {
      "text/plain": [
       "Counter({'T': 58664,\n",
       "         'S': 141638,\n",
       "         'Y': 39287,\n",
       "         'H': 14,\n",
       "         'R': 3,\n",
       "         'V': 1,\n",
       "         'N': 1,\n",
       "         'P': 2,\n",
       "         'F': 1,\n",
       "         'G': 3,\n",
       "         'L': 1,\n",
       "         'K': 2,\n",
       "         'A': 1,\n",
       "         'I': 1,\n",
       "         'D': 1})"
      ]
     },
     "execution_count": 15,
     "metadata": {},
     "output_type": "execute_result"
    }
   ],
   "source": [
    "Counter(df_phospho_f.AA)"
   ]
  },
  {
   "cell_type": "code",
   "execution_count": 16,
   "metadata": {},
   "outputs": [
    {
     "data": {
      "text/plain": [
       "Counter({'K': 97794, 'S': 1, 'R': 2, 'C': 2})"
      ]
     },
     "execution_count": 16,
     "metadata": {},
     "output_type": "execute_result"
    }
   ],
   "source": [
    "Counter(df_ubi_f.AA)"
   ]
  },
  {
   "cell_type": "code",
   "execution_count": 17,
   "metadata": {},
   "outputs": [
    {
     "data": {
      "text/plain": [
       "Counter({'K': 8442})"
      ]
     },
     "execution_count": 17,
     "metadata": {},
     "output_type": "execute_result"
    }
   ],
   "source": [
    "Counter(df_sumo_f.AA)"
   ]
  },
  {
   "cell_type": "code",
   "execution_count": 18,
   "metadata": {},
   "outputs": [
    {
     "data": {
      "text/plain": [
       "Counter({'K': 22837, 'S': 10, 'T': 5})"
      ]
     },
     "execution_count": 18,
     "metadata": {},
     "output_type": "execute_result"
    }
   ],
   "source": [
    "Counter(df_acetyl_f.AA)"
   ]
  },
  {
   "cell_type": "code",
   "execution_count": 19,
   "metadata": {},
   "outputs": [
    {
     "data": {
      "text/plain": [
       "Counter({'K': 5237, 'R': 11164, 'H': 3, 'C': 8, 'L': 1})"
      ]
     },
     "execution_count": 19,
     "metadata": {},
     "output_type": "execute_result"
    }
   ],
   "source": [
    "Counter(df_methyl_f.AA)"
   ]
  },
  {
   "cell_type": "code",
   "execution_count": 20,
   "metadata": {},
   "outputs": [],
   "source": [
    "### There are multiple methylation types >> aggregate "
   ]
  },
  {
   "cell_type": "code",
   "execution_count": 21,
   "metadata": {},
   "outputs": [
    {
     "data": {
      "text/plain": [
       "array(['m1', 'm2', 'me', 'm3'], dtype=object)"
      ]
     },
     "execution_count": 21,
     "metadata": {},
     "output_type": "execute_result"
    }
   ],
   "source": [
    "df_methyl_f.ptm.unique()"
   ]
  },
  {
   "cell_type": "code",
   "execution_count": 22,
   "metadata": {},
   "outputs": [
    {
     "data": {
      "text/plain": [
       "Counter({'K': 4291, 'R': 9501, 'H': 3})"
      ]
     },
     "execution_count": 22,
     "metadata": {},
     "output_type": "execute_result"
    }
   ],
   "source": [
    "Counter(df_methyl_f[df_methyl_f.ptm=='m1'].AA)"
   ]
  },
  {
   "cell_type": "code",
   "execution_count": 23,
   "metadata": {},
   "outputs": [
    {
     "data": {
      "text/plain": [
       "Counter({'K': 533, 'R': 1566})"
      ]
     },
     "execution_count": 23,
     "metadata": {},
     "output_type": "execute_result"
    }
   ],
   "source": [
    "Counter(df_methyl_f[df_methyl_f.ptm=='m2'].AA)"
   ]
  },
  {
   "cell_type": "code",
   "execution_count": 24,
   "metadata": {},
   "outputs": [
    {
     "data": {
      "text/plain": [
       "Counter({'R': 97, 'K': 80, 'C': 8, 'L': 1})"
      ]
     },
     "execution_count": 24,
     "metadata": {},
     "output_type": "execute_result"
    }
   ],
   "source": [
    "Counter(df_methyl_f[df_methyl_f.ptm=='me'].AA)"
   ]
  },
  {
   "cell_type": "code",
   "execution_count": 25,
   "metadata": {},
   "outputs": [
    {
     "data": {
      "text/plain": [
       "Counter({'K': 333})"
      ]
     },
     "execution_count": 25,
     "metadata": {},
     "output_type": "execute_result"
    }
   ],
   "source": [
    "Counter(df_methyl_f[df_methyl_f.ptm=='m3'].AA)"
   ]
  },
  {
   "cell_type": "code",
   "execution_count": 26,
   "metadata": {},
   "outputs": [
    {
     "data": {
      "text/plain": [
       "Counter({'S': 835, 'T': 1267, 'Y': 10})"
      ]
     },
     "execution_count": 26,
     "metadata": {},
     "output_type": "execute_result"
    }
   ],
   "source": [
    "Counter(df_GalNAc_f.AA)"
   ]
  },
  {
   "cell_type": "code",
   "execution_count": 27,
   "metadata": {},
   "outputs": [
    {
     "data": {
      "text/plain": [
       "Counter({'S': 265, 'T': 187})"
      ]
     },
     "execution_count": 27,
     "metadata": {},
     "output_type": "execute_result"
    }
   ],
   "source": [
    "Counter(df_GlcNAc_f.AA)"
   ]
  },
  {
   "cell_type": "code",
   "execution_count": 28,
   "metadata": {},
   "outputs": [
    {
     "data": {
      "text/plain": [
       "Counter({'K': 1751,\n",
       "         'Y': 1809,\n",
       "         'S': 5567,\n",
       "         'T': 1979,\n",
       "         'R': 117,\n",
       "         'L': 1,\n",
       "         'I': 1,\n",
       "         'N': 2,\n",
       "         'H': 3,\n",
       "         'C': 4})"
      ]
     },
     "execution_count": 28,
     "metadata": {},
     "output_type": "execute_result"
    }
   ],
   "source": [
    "Counter(df_regulatory_f.AA)"
   ]
  },
  {
   "cell_type": "code",
   "execution_count": 29,
   "metadata": {},
   "outputs": [
    {
     "data": {
      "text/plain": [
       "Counter({'ub': 481,\n",
       "         'p': 9330,\n",
       "         'ac': 673,\n",
       "         'm2': 90,\n",
       "         'm1': 74,\n",
       "         'sm': 490,\n",
       "         'm3': 14,\n",
       "         'me': 49,\n",
       "         'gl': 26,\n",
       "         'ng': 2,\n",
       "         'pa': 4,\n",
       "         'sc': 1})"
      ]
     },
     "execution_count": 29,
     "metadata": {},
     "output_type": "execute_result"
    }
   ],
   "source": [
    "Counter(df_regulatory_f.ptm)"
   ]
  },
  {
   "cell_type": "markdown",
   "metadata": {},
   "source": [
    "### Rename regulatory PTM sites"
   ]
  },
  {
   "cell_type": "code",
   "execution_count": 30,
   "metadata": {},
   "outputs": [],
   "source": [
    "# df_regulatory_f = df_regulatory_f[df_regulatory_f.ptm=='p'].reset_index(drop=True)\n",
    "# df_regulatory_f['ptm'] = 'p_reg'"
   ]
  },
  {
   "cell_type": "code",
   "execution_count": 31,
   "metadata": {},
   "outputs": [],
   "source": [
    "df_regulatory_f['ptm'] = df_regulatory_f['ptm']+'_reg'"
   ]
  },
  {
   "cell_type": "code",
   "execution_count": 32,
   "metadata": {},
   "outputs": [
    {
     "data": {
      "text/html": [
       "<div>\n",
       "<style scoped>\n",
       "    .dataframe tbody tr th:only-of-type {\n",
       "        vertical-align: middle;\n",
       "    }\n",
       "\n",
       "    .dataframe tbody tr th {\n",
       "        vertical-align: top;\n",
       "    }\n",
       "\n",
       "    .dataframe thead th {\n",
       "        text-align: right;\n",
       "    }\n",
       "</style>\n",
       "<table border=\"1\" class=\"dataframe\">\n",
       "  <thead>\n",
       "    <tr style=\"text-align: right;\">\n",
       "      <th></th>\n",
       "      <th>protein_id</th>\n",
       "      <th>AA</th>\n",
       "      <th>position</th>\n",
       "      <th>ptm</th>\n",
       "    </tr>\n",
       "  </thead>\n",
       "  <tbody>\n",
       "    <tr>\n",
       "      <th>0</th>\n",
       "      <td>P41181</td>\n",
       "      <td>K</td>\n",
       "      <td>270</td>\n",
       "      <td>ub_reg</td>\n",
       "    </tr>\n",
       "    <tr>\n",
       "      <th>1</th>\n",
       "      <td>Q8TD46</td>\n",
       "      <td>Y</td>\n",
       "      <td>302</td>\n",
       "      <td>p_reg</td>\n",
       "    </tr>\n",
       "    <tr>\n",
       "      <th>2</th>\n",
       "      <td>P60484</td>\n",
       "      <td>S</td>\n",
       "      <td>380</td>\n",
       "      <td>p_reg</td>\n",
       "    </tr>\n",
       "    <tr>\n",
       "      <th>3</th>\n",
       "      <td>P10636-8</td>\n",
       "      <td>T</td>\n",
       "      <td>231</td>\n",
       "      <td>p_reg</td>\n",
       "    </tr>\n",
       "    <tr>\n",
       "      <th>4</th>\n",
       "      <td>Q9UPY3</td>\n",
       "      <td>S</td>\n",
       "      <td>1016</td>\n",
       "      <td>p_reg</td>\n",
       "    </tr>\n",
       "    <tr>\n",
       "      <th>...</th>\n",
       "      <td>...</td>\n",
       "      <td>...</td>\n",
       "      <td>...</td>\n",
       "      <td>...</td>\n",
       "    </tr>\n",
       "    <tr>\n",
       "      <th>11229</th>\n",
       "      <td>P31749</td>\n",
       "      <td>T</td>\n",
       "      <td>308</td>\n",
       "      <td>p_reg</td>\n",
       "    </tr>\n",
       "    <tr>\n",
       "      <th>11230</th>\n",
       "      <td>Q14247</td>\n",
       "      <td>K</td>\n",
       "      <td>198</td>\n",
       "      <td>ac_reg</td>\n",
       "    </tr>\n",
       "    <tr>\n",
       "      <th>11231</th>\n",
       "      <td>Q9Y261</td>\n",
       "      <td>K</td>\n",
       "      <td>264</td>\n",
       "      <td>ac_reg</td>\n",
       "    </tr>\n",
       "    <tr>\n",
       "      <th>11232</th>\n",
       "      <td>P16144</td>\n",
       "      <td>S</td>\n",
       "      <td>1494</td>\n",
       "      <td>p_reg</td>\n",
       "    </tr>\n",
       "    <tr>\n",
       "      <th>11233</th>\n",
       "      <td>Q9BZS1</td>\n",
       "      <td>Y</td>\n",
       "      <td>342</td>\n",
       "      <td>p_reg</td>\n",
       "    </tr>\n",
       "  </tbody>\n",
       "</table>\n",
       "<p>11234 rows × 4 columns</p>\n",
       "</div>"
      ],
      "text/plain": [
       "      protein_id AA position     ptm\n",
       "0         P41181  K      270  ub_reg\n",
       "1         Q8TD46  Y      302   p_reg\n",
       "2         P60484  S      380   p_reg\n",
       "3       P10636-8  T      231   p_reg\n",
       "4         Q9UPY3  S     1016   p_reg\n",
       "...          ... ..      ...     ...\n",
       "11229     P31749  T      308   p_reg\n",
       "11230     Q14247  K      198  ac_reg\n",
       "11231     Q9Y261  K      264  ac_reg\n",
       "11232     P16144  S     1494   p_reg\n",
       "11233     Q9BZS1  Y      342   p_reg\n",
       "\n",
       "[11234 rows x 4 columns]"
      ]
     },
     "execution_count": 32,
     "metadata": {},
     "output_type": "execute_result"
    }
   ],
   "source": [
    "df_regulatory_f"
   ]
  },
  {
   "cell_type": "code",
   "execution_count": 33,
   "metadata": {},
   "outputs": [],
   "source": [
    "ptm_site_dict = {'p':['S','T','Y'],\n",
    "                 'ub':['K'],\n",
    "                 'sm':['K'],\n",
    "                 'ac':['K'],\n",
    "                 'm':['K','R'],\n",
    "                 'ga':['S','T'],\n",
    "                 'gl':['S','T'],\n",
    "                 'p_reg':['S','T','Y'],\n",
    "                 'ub_reg':['K'],\n",
    "                 'sm_reg':['K'],\n",
    "                 'ac_reg':['K'],\n",
    "                 'm_reg':['K','R'],\n",
    "                 'ga_reg':['S','T'],\n",
    "                 'gl_reg':['S','T'],}"
   ]
  },
  {
   "cell_type": "markdown",
   "metadata": {},
   "source": [
    "## Concatenate ptm site tables and remove sites that are not according to the ptm_site_dict"
   ]
  },
  {
   "cell_type": "code",
   "execution_count": 34,
   "metadata": {},
   "outputs": [],
   "source": [
    "ptm_df = None\n",
    "\n",
    "for d in [df_phospho_f, df_ubi_f, df_sumo_f, df_acetyl_f, df_methyl_f, df_GalNAc_f, df_GlcNAc_f, df_regulatory_f]:\n",
    "    if ptm_df is None:\n",
    "        ptm_df = d\n",
    "    else:\n",
    "        ptm_df = pd.concat([ptm_df, d])"
   ]
  },
  {
   "cell_type": "code",
   "execution_count": 35,
   "metadata": {},
   "outputs": [
    {
     "data": {
      "text/html": [
       "<div>\n",
       "<style scoped>\n",
       "    .dataframe tbody tr th:only-of-type {\n",
       "        vertical-align: middle;\n",
       "    }\n",
       "\n",
       "    .dataframe tbody tr th {\n",
       "        vertical-align: top;\n",
       "    }\n",
       "\n",
       "    .dataframe thead th {\n",
       "        text-align: right;\n",
       "    }\n",
       "</style>\n",
       "<table border=\"1\" class=\"dataframe\">\n",
       "  <thead>\n",
       "    <tr style=\"text-align: right;\">\n",
       "      <th></th>\n",
       "      <th>protein_id</th>\n",
       "      <th>AA</th>\n",
       "      <th>position</th>\n",
       "      <th>ptm</th>\n",
       "    </tr>\n",
       "  </thead>\n",
       "  <tbody>\n",
       "    <tr>\n",
       "      <th>0</th>\n",
       "      <td>P31946</td>\n",
       "      <td>T</td>\n",
       "      <td>2</td>\n",
       "      <td>p</td>\n",
       "    </tr>\n",
       "    <tr>\n",
       "      <th>1</th>\n",
       "      <td>P31946</td>\n",
       "      <td>S</td>\n",
       "      <td>6</td>\n",
       "      <td>p</td>\n",
       "    </tr>\n",
       "    <tr>\n",
       "      <th>2</th>\n",
       "      <td>P31946</td>\n",
       "      <td>Y</td>\n",
       "      <td>21</td>\n",
       "      <td>p</td>\n",
       "    </tr>\n",
       "    <tr>\n",
       "      <th>3</th>\n",
       "      <td>P31946</td>\n",
       "      <td>T</td>\n",
       "      <td>32</td>\n",
       "      <td>p</td>\n",
       "    </tr>\n",
       "    <tr>\n",
       "      <th>4</th>\n",
       "      <td>P31946</td>\n",
       "      <td>S</td>\n",
       "      <td>39</td>\n",
       "      <td>p</td>\n",
       "    </tr>\n",
       "    <tr>\n",
       "      <th>...</th>\n",
       "      <td>...</td>\n",
       "      <td>...</td>\n",
       "      <td>...</td>\n",
       "      <td>...</td>\n",
       "    </tr>\n",
       "    <tr>\n",
       "      <th>11229</th>\n",
       "      <td>P31749</td>\n",
       "      <td>T</td>\n",
       "      <td>308</td>\n",
       "      <td>p_reg</td>\n",
       "    </tr>\n",
       "    <tr>\n",
       "      <th>11230</th>\n",
       "      <td>Q14247</td>\n",
       "      <td>K</td>\n",
       "      <td>198</td>\n",
       "      <td>ac_reg</td>\n",
       "    </tr>\n",
       "    <tr>\n",
       "      <th>11231</th>\n",
       "      <td>Q9Y261</td>\n",
       "      <td>K</td>\n",
       "      <td>264</td>\n",
       "      <td>ac_reg</td>\n",
       "    </tr>\n",
       "    <tr>\n",
       "      <th>11232</th>\n",
       "      <td>P16144</td>\n",
       "      <td>S</td>\n",
       "      <td>1494</td>\n",
       "      <td>p_reg</td>\n",
       "    </tr>\n",
       "    <tr>\n",
       "      <th>11233</th>\n",
       "      <td>Q9BZS1</td>\n",
       "      <td>Y</td>\n",
       "      <td>342</td>\n",
       "      <td>p_reg</td>\n",
       "    </tr>\n",
       "  </tbody>\n",
       "</table>\n",
       "<p>398924 rows × 4 columns</p>\n",
       "</div>"
      ],
      "text/plain": [
       "      protein_id AA position     ptm\n",
       "0         P31946  T        2       p\n",
       "1         P31946  S        6       p\n",
       "2         P31946  Y       21       p\n",
       "3         P31946  T       32       p\n",
       "4         P31946  S       39       p\n",
       "...          ... ..      ...     ...\n",
       "11229     P31749  T      308   p_reg\n",
       "11230     Q14247  K      198  ac_reg\n",
       "11231     Q9Y261  K      264  ac_reg\n",
       "11232     P16144  S     1494   p_reg\n",
       "11233     Q9BZS1  Y      342   p_reg\n",
       "\n",
       "[398924 rows x 4 columns]"
      ]
     },
     "execution_count": 35,
     "metadata": {},
     "output_type": "execute_result"
    }
   ],
   "source": [
    "ptm_df"
   ]
  },
  {
   "cell_type": "markdown",
   "metadata": {},
   "source": [
    "### Aggregate different methylation types"
   ]
  },
  {
   "cell_type": "code",
   "execution_count": 36,
   "metadata": {},
   "outputs": [],
   "source": [
    "ptm_df['ptm'] = ptm_df['ptm'].apply(lambda x: re.sub('me|m1|m2|m3','m',x) if x in ['m1','m2','me','m3','m1_reg','m2_reg','me_reg','m3_reg'] else x)"
   ]
  },
  {
   "cell_type": "code",
   "execution_count": 37,
   "metadata": {},
   "outputs": [
    {
     "data": {
      "text/plain": [
       "array(['p', 'ub', 'sm', 'ac', 'm', 'ga', 'gl', 'ub_reg', 'p_reg',\n",
       "       'ac_reg', 'm_reg', 'sm_reg', 'gl_reg', 'ng_reg', 'pa_reg',\n",
       "       'sc_reg'], dtype=object)"
      ]
     },
     "execution_count": 37,
     "metadata": {},
     "output_type": "execute_result"
    }
   ],
   "source": [
    "ptm_df['ptm'].unique()"
   ]
  },
  {
   "cell_type": "code",
   "execution_count": 38,
   "metadata": {},
   "outputs": [],
   "source": [
    "### Remove regulatory ng, pa and sc"
   ]
  },
  {
   "cell_type": "code",
   "execution_count": 39,
   "metadata": {},
   "outputs": [],
   "source": [
    "ptm_df = ptm_df[ptm_df.ptm.isin(['p', 'ub', 'sm', 'ac', 'm', 'ga', 'gl', \n",
    "                               'ub_reg', 'p_reg','ac_reg', 'm_reg', 'sm_reg', 'gl_reg'])]"
   ]
  },
  {
   "cell_type": "code",
   "execution_count": 40,
   "metadata": {},
   "outputs": [
    {
     "data": {
      "text/plain": [
       "array(['p', 'ub', 'sm', 'ac', 'm', 'ga', 'gl', 'ub_reg', 'p_reg',\n",
       "       'ac_reg', 'm_reg', 'sm_reg', 'gl_reg'], dtype=object)"
      ]
     },
     "execution_count": 40,
     "metadata": {},
     "output_type": "execute_result"
    }
   ],
   "source": [
    "ptm_df['ptm'].unique()"
   ]
  },
  {
   "cell_type": "code",
   "execution_count": 41,
   "metadata": {},
   "outputs": [],
   "source": [
    "### Subset ptm_df to AA sites in ptm_site_dict"
   ]
  },
  {
   "cell_type": "code",
   "execution_count": 42,
   "metadata": {},
   "outputs": [],
   "source": [
    "def check_ptm_dict(mod, aa, ptm_d):\n",
    "    pos_aa = ptm_d[mod]\n",
    "    if aa in pos_aa:\n",
    "        res = 1\n",
    "    else: \n",
    "        res = 0\n",
    "    return(res)"
   ]
  },
  {
   "cell_type": "code",
   "execution_count": 43,
   "metadata": {},
   "outputs": [
    {
     "name": "stderr",
     "output_type": "stream",
     "text": [
      "/var/folders/zx/n29r0swn0hddt1qgy159sjrw0000gn/T/ipykernel_15074/1158935549.py:1: SettingWithCopyWarning: \n",
      "A value is trying to be set on a copy of a slice from a DataFrame.\n",
      "Try using .loc[row_indexer,col_indexer] = value instead\n",
      "\n",
      "See the caveats in the documentation: https://pandas.pydata.org/pandas-docs/stable/user_guide/indexing.html#returning-a-view-versus-a-copy\n",
      "  ptm_df['in_dict'] = ptm_df.apply(lambda x: check_ptm_dict(x['ptm'],x['AA'],ptm_site_dict), axis=1)\n"
     ]
    }
   ],
   "source": [
    "ptm_df['in_dict'] = ptm_df.apply(lambda x: check_ptm_dict(x['ptm'],x['AA'],ptm_site_dict), axis=1)"
   ]
  },
  {
   "cell_type": "code",
   "execution_count": 44,
   "metadata": {},
   "outputs": [],
   "source": [
    "ptm_df = ptm_df[ptm_df.in_dict==1]"
   ]
  },
  {
   "cell_type": "code",
   "execution_count": 45,
   "metadata": {},
   "outputs": [],
   "source": [
    "ptm_df = ptm_df.drop(columns=['in_dict']).reset_index(drop=True)"
   ]
  },
  {
   "cell_type": "code",
   "execution_count": 46,
   "metadata": {},
   "outputs": [
    {
     "data": {
      "text/html": [
       "<div>\n",
       "<style scoped>\n",
       "    .dataframe tbody tr th:only-of-type {\n",
       "        vertical-align: middle;\n",
       "    }\n",
       "\n",
       "    .dataframe tbody tr th {\n",
       "        vertical-align: top;\n",
       "    }\n",
       "\n",
       "    .dataframe thead th {\n",
       "        text-align: right;\n",
       "    }\n",
       "</style>\n",
       "<table border=\"1\" class=\"dataframe\">\n",
       "  <thead>\n",
       "    <tr style=\"text-align: right;\">\n",
       "      <th></th>\n",
       "      <th>protein_id</th>\n",
       "      <th>AA</th>\n",
       "      <th>position</th>\n",
       "      <th>ptm</th>\n",
       "    </tr>\n",
       "  </thead>\n",
       "  <tbody>\n",
       "    <tr>\n",
       "      <th>0</th>\n",
       "      <td>P31946</td>\n",
       "      <td>T</td>\n",
       "      <td>2</td>\n",
       "      <td>p</td>\n",
       "    </tr>\n",
       "    <tr>\n",
       "      <th>1</th>\n",
       "      <td>P31946</td>\n",
       "      <td>S</td>\n",
       "      <td>6</td>\n",
       "      <td>p</td>\n",
       "    </tr>\n",
       "    <tr>\n",
       "      <th>2</th>\n",
       "      <td>P31946</td>\n",
       "      <td>Y</td>\n",
       "      <td>21</td>\n",
       "      <td>p</td>\n",
       "    </tr>\n",
       "    <tr>\n",
       "      <th>3</th>\n",
       "      <td>P31946</td>\n",
       "      <td>T</td>\n",
       "      <td>32</td>\n",
       "      <td>p</td>\n",
       "    </tr>\n",
       "    <tr>\n",
       "      <th>4</th>\n",
       "      <td>P31946</td>\n",
       "      <td>S</td>\n",
       "      <td>39</td>\n",
       "      <td>p</td>\n",
       "    </tr>\n",
       "    <tr>\n",
       "      <th>...</th>\n",
       "      <td>...</td>\n",
       "      <td>...</td>\n",
       "      <td>...</td>\n",
       "      <td>...</td>\n",
       "    </tr>\n",
       "    <tr>\n",
       "      <th>398827</th>\n",
       "      <td>P31749</td>\n",
       "      <td>T</td>\n",
       "      <td>308</td>\n",
       "      <td>p_reg</td>\n",
       "    </tr>\n",
       "    <tr>\n",
       "      <th>398828</th>\n",
       "      <td>Q14247</td>\n",
       "      <td>K</td>\n",
       "      <td>198</td>\n",
       "      <td>ac_reg</td>\n",
       "    </tr>\n",
       "    <tr>\n",
       "      <th>398829</th>\n",
       "      <td>Q9Y261</td>\n",
       "      <td>K</td>\n",
       "      <td>264</td>\n",
       "      <td>ac_reg</td>\n",
       "    </tr>\n",
       "    <tr>\n",
       "      <th>398830</th>\n",
       "      <td>P16144</td>\n",
       "      <td>S</td>\n",
       "      <td>1494</td>\n",
       "      <td>p_reg</td>\n",
       "    </tr>\n",
       "    <tr>\n",
       "      <th>398831</th>\n",
       "      <td>Q9BZS1</td>\n",
       "      <td>Y</td>\n",
       "      <td>342</td>\n",
       "      <td>p_reg</td>\n",
       "    </tr>\n",
       "  </tbody>\n",
       "</table>\n",
       "<p>398832 rows × 4 columns</p>\n",
       "</div>"
      ],
      "text/plain": [
       "       protein_id AA position     ptm\n",
       "0          P31946  T        2       p\n",
       "1          P31946  S        6       p\n",
       "2          P31946  Y       21       p\n",
       "3          P31946  T       32       p\n",
       "4          P31946  S       39       p\n",
       "...           ... ..      ...     ...\n",
       "398827     P31749  T      308   p_reg\n",
       "398828     Q14247  K      198  ac_reg\n",
       "398829     Q9Y261  K      264  ac_reg\n",
       "398830     P16144  S     1494   p_reg\n",
       "398831     Q9BZS1  Y      342   p_reg\n",
       "\n",
       "[398832 rows x 4 columns]"
      ]
     },
     "execution_count": 46,
     "metadata": {},
     "output_type": "execute_result"
    }
   ],
   "source": [
    "ptm_df"
   ]
  },
  {
   "cell_type": "code",
   "execution_count": 47,
   "metadata": {},
   "outputs": [],
   "source": [
    "#ptm_df[ptm_df.protein_id=='Q9UBS5']"
   ]
  },
  {
   "cell_type": "markdown",
   "metadata": {},
   "source": [
    "## Format to wide table"
   ]
  },
  {
   "cell_type": "code",
   "execution_count": 48,
   "metadata": {},
   "outputs": [],
   "source": [
    "ptm_oh = pd.get_dummies(ptm_df['ptm'])"
   ]
  },
  {
   "cell_type": "code",
   "execution_count": 49,
   "metadata": {},
   "outputs": [],
   "source": [
    "ptm_annotation = ptm_df.join(ptm_oh)"
   ]
  },
  {
   "cell_type": "code",
   "execution_count": 50,
   "metadata": {},
   "outputs": [],
   "source": [
    "ptm_annotation = ptm_annotation.drop(columns=['ptm'])"
   ]
  },
  {
   "cell_type": "code",
   "execution_count": 51,
   "metadata": {},
   "outputs": [
    {
     "data": {
      "text/html": [
       "<div>\n",
       "<style scoped>\n",
       "    .dataframe tbody tr th:only-of-type {\n",
       "        vertical-align: middle;\n",
       "    }\n",
       "\n",
       "    .dataframe tbody tr th {\n",
       "        vertical-align: top;\n",
       "    }\n",
       "\n",
       "    .dataframe thead th {\n",
       "        text-align: right;\n",
       "    }\n",
       "</style>\n",
       "<table border=\"1\" class=\"dataframe\">\n",
       "  <thead>\n",
       "    <tr style=\"text-align: right;\">\n",
       "      <th></th>\n",
       "      <th>protein_id</th>\n",
       "      <th>AA</th>\n",
       "      <th>position</th>\n",
       "      <th>ac</th>\n",
       "      <th>ac_reg</th>\n",
       "      <th>ga</th>\n",
       "      <th>gl</th>\n",
       "      <th>gl_reg</th>\n",
       "      <th>m</th>\n",
       "      <th>m_reg</th>\n",
       "      <th>p</th>\n",
       "      <th>p_reg</th>\n",
       "      <th>sm</th>\n",
       "      <th>sm_reg</th>\n",
       "      <th>ub</th>\n",
       "      <th>ub_reg</th>\n",
       "    </tr>\n",
       "  </thead>\n",
       "  <tbody>\n",
       "    <tr>\n",
       "      <th>0</th>\n",
       "      <td>P31946</td>\n",
       "      <td>T</td>\n",
       "      <td>2</td>\n",
       "      <td>0</td>\n",
       "      <td>0</td>\n",
       "      <td>0</td>\n",
       "      <td>0</td>\n",
       "      <td>0</td>\n",
       "      <td>0</td>\n",
       "      <td>0</td>\n",
       "      <td>1</td>\n",
       "      <td>0</td>\n",
       "      <td>0</td>\n",
       "      <td>0</td>\n",
       "      <td>0</td>\n",
       "      <td>0</td>\n",
       "    </tr>\n",
       "    <tr>\n",
       "      <th>1</th>\n",
       "      <td>P31946</td>\n",
       "      <td>S</td>\n",
       "      <td>6</td>\n",
       "      <td>0</td>\n",
       "      <td>0</td>\n",
       "      <td>0</td>\n",
       "      <td>0</td>\n",
       "      <td>0</td>\n",
       "      <td>0</td>\n",
       "      <td>0</td>\n",
       "      <td>1</td>\n",
       "      <td>0</td>\n",
       "      <td>0</td>\n",
       "      <td>0</td>\n",
       "      <td>0</td>\n",
       "      <td>0</td>\n",
       "    </tr>\n",
       "    <tr>\n",
       "      <th>2</th>\n",
       "      <td>P31946</td>\n",
       "      <td>Y</td>\n",
       "      <td>21</td>\n",
       "      <td>0</td>\n",
       "      <td>0</td>\n",
       "      <td>0</td>\n",
       "      <td>0</td>\n",
       "      <td>0</td>\n",
       "      <td>0</td>\n",
       "      <td>0</td>\n",
       "      <td>1</td>\n",
       "      <td>0</td>\n",
       "      <td>0</td>\n",
       "      <td>0</td>\n",
       "      <td>0</td>\n",
       "      <td>0</td>\n",
       "    </tr>\n",
       "    <tr>\n",
       "      <th>3</th>\n",
       "      <td>P31946</td>\n",
       "      <td>T</td>\n",
       "      <td>32</td>\n",
       "      <td>0</td>\n",
       "      <td>0</td>\n",
       "      <td>0</td>\n",
       "      <td>0</td>\n",
       "      <td>0</td>\n",
       "      <td>0</td>\n",
       "      <td>0</td>\n",
       "      <td>1</td>\n",
       "      <td>0</td>\n",
       "      <td>0</td>\n",
       "      <td>0</td>\n",
       "      <td>0</td>\n",
       "      <td>0</td>\n",
       "    </tr>\n",
       "    <tr>\n",
       "      <th>4</th>\n",
       "      <td>P31946</td>\n",
       "      <td>S</td>\n",
       "      <td>39</td>\n",
       "      <td>0</td>\n",
       "      <td>0</td>\n",
       "      <td>0</td>\n",
       "      <td>0</td>\n",
       "      <td>0</td>\n",
       "      <td>0</td>\n",
       "      <td>0</td>\n",
       "      <td>1</td>\n",
       "      <td>0</td>\n",
       "      <td>0</td>\n",
       "      <td>0</td>\n",
       "      <td>0</td>\n",
       "      <td>0</td>\n",
       "    </tr>\n",
       "    <tr>\n",
       "      <th>...</th>\n",
       "      <td>...</td>\n",
       "      <td>...</td>\n",
       "      <td>...</td>\n",
       "      <td>...</td>\n",
       "      <td>...</td>\n",
       "      <td>...</td>\n",
       "      <td>...</td>\n",
       "      <td>...</td>\n",
       "      <td>...</td>\n",
       "      <td>...</td>\n",
       "      <td>...</td>\n",
       "      <td>...</td>\n",
       "      <td>...</td>\n",
       "      <td>...</td>\n",
       "      <td>...</td>\n",
       "      <td>...</td>\n",
       "    </tr>\n",
       "    <tr>\n",
       "      <th>398827</th>\n",
       "      <td>P31749</td>\n",
       "      <td>T</td>\n",
       "      <td>308</td>\n",
       "      <td>0</td>\n",
       "      <td>0</td>\n",
       "      <td>0</td>\n",
       "      <td>0</td>\n",
       "      <td>0</td>\n",
       "      <td>0</td>\n",
       "      <td>0</td>\n",
       "      <td>0</td>\n",
       "      <td>1</td>\n",
       "      <td>0</td>\n",
       "      <td>0</td>\n",
       "      <td>0</td>\n",
       "      <td>0</td>\n",
       "    </tr>\n",
       "    <tr>\n",
       "      <th>398828</th>\n",
       "      <td>Q14247</td>\n",
       "      <td>K</td>\n",
       "      <td>198</td>\n",
       "      <td>0</td>\n",
       "      <td>1</td>\n",
       "      <td>0</td>\n",
       "      <td>0</td>\n",
       "      <td>0</td>\n",
       "      <td>0</td>\n",
       "      <td>0</td>\n",
       "      <td>0</td>\n",
       "      <td>0</td>\n",
       "      <td>0</td>\n",
       "      <td>0</td>\n",
       "      <td>0</td>\n",
       "      <td>0</td>\n",
       "    </tr>\n",
       "    <tr>\n",
       "      <th>398829</th>\n",
       "      <td>Q9Y261</td>\n",
       "      <td>K</td>\n",
       "      <td>264</td>\n",
       "      <td>0</td>\n",
       "      <td>1</td>\n",
       "      <td>0</td>\n",
       "      <td>0</td>\n",
       "      <td>0</td>\n",
       "      <td>0</td>\n",
       "      <td>0</td>\n",
       "      <td>0</td>\n",
       "      <td>0</td>\n",
       "      <td>0</td>\n",
       "      <td>0</td>\n",
       "      <td>0</td>\n",
       "      <td>0</td>\n",
       "    </tr>\n",
       "    <tr>\n",
       "      <th>398830</th>\n",
       "      <td>P16144</td>\n",
       "      <td>S</td>\n",
       "      <td>1494</td>\n",
       "      <td>0</td>\n",
       "      <td>0</td>\n",
       "      <td>0</td>\n",
       "      <td>0</td>\n",
       "      <td>0</td>\n",
       "      <td>0</td>\n",
       "      <td>0</td>\n",
       "      <td>0</td>\n",
       "      <td>1</td>\n",
       "      <td>0</td>\n",
       "      <td>0</td>\n",
       "      <td>0</td>\n",
       "      <td>0</td>\n",
       "    </tr>\n",
       "    <tr>\n",
       "      <th>398831</th>\n",
       "      <td>Q9BZS1</td>\n",
       "      <td>Y</td>\n",
       "      <td>342</td>\n",
       "      <td>0</td>\n",
       "      <td>0</td>\n",
       "      <td>0</td>\n",
       "      <td>0</td>\n",
       "      <td>0</td>\n",
       "      <td>0</td>\n",
       "      <td>0</td>\n",
       "      <td>0</td>\n",
       "      <td>1</td>\n",
       "      <td>0</td>\n",
       "      <td>0</td>\n",
       "      <td>0</td>\n",
       "      <td>0</td>\n",
       "    </tr>\n",
       "  </tbody>\n",
       "</table>\n",
       "<p>398832 rows × 16 columns</p>\n",
       "</div>"
      ],
      "text/plain": [
       "       protein_id AA position  ac  ac_reg  ga  gl  gl_reg  m  m_reg  p  p_reg  \\\n",
       "0          P31946  T        2   0       0   0   0       0  0      0  1      0   \n",
       "1          P31946  S        6   0       0   0   0       0  0      0  1      0   \n",
       "2          P31946  Y       21   0       0   0   0       0  0      0  1      0   \n",
       "3          P31946  T       32   0       0   0   0       0  0      0  1      0   \n",
       "4          P31946  S       39   0       0   0   0       0  0      0  1      0   \n",
       "...           ... ..      ...  ..     ...  ..  ..     ... ..    ... ..    ...   \n",
       "398827     P31749  T      308   0       0   0   0       0  0      0  0      1   \n",
       "398828     Q14247  K      198   0       1   0   0       0  0      0  0      0   \n",
       "398829     Q9Y261  K      264   0       1   0   0       0  0      0  0      0   \n",
       "398830     P16144  S     1494   0       0   0   0       0  0      0  0      1   \n",
       "398831     Q9BZS1  Y      342   0       0   0   0       0  0      0  0      1   \n",
       "\n",
       "        sm  sm_reg  ub  ub_reg  \n",
       "0        0       0   0       0  \n",
       "1        0       0   0       0  \n",
       "2        0       0   0       0  \n",
       "3        0       0   0       0  \n",
       "4        0       0   0       0  \n",
       "...     ..     ...  ..     ...  \n",
       "398827   0       0   0       0  \n",
       "398828   0       0   0       0  \n",
       "398829   0       0   0       0  \n",
       "398830   0       0   0       0  \n",
       "398831   0       0   0       0  \n",
       "\n",
       "[398832 rows x 16 columns]"
      ]
     },
     "execution_count": 51,
     "metadata": {},
     "output_type": "execute_result"
    }
   ],
   "source": [
    "ptm_annotation"
   ]
  },
  {
   "cell_type": "markdown",
   "metadata": {},
   "source": [
    "## Aggregate rows "
   ]
  },
  {
   "cell_type": "code",
   "execution_count": 52,
   "metadata": {},
   "outputs": [],
   "source": [
    "ptm_annotation_grouped = ptm_annotation.groupby(['protein_id','AA','position'])"
   ]
  },
  {
   "cell_type": "code",
   "execution_count": 53,
   "metadata": {},
   "outputs": [],
   "source": [
    "ptm_annotation_grouped = ptm_annotation_grouped.max()"
   ]
  },
  {
   "cell_type": "code",
   "execution_count": 54,
   "metadata": {},
   "outputs": [],
   "source": [
    "ptm_annotation_grouped = ptm_annotation_grouped.reset_index()"
   ]
  },
  {
   "cell_type": "code",
   "execution_count": 55,
   "metadata": {},
   "outputs": [],
   "source": [
    "ptm_annotation_grouped = ptm_annotation_grouped.reset_index(drop=True)"
   ]
  },
  {
   "cell_type": "code",
   "execution_count": 56,
   "metadata": {},
   "outputs": [
    {
     "data": {
      "text/html": [
       "<div>\n",
       "<style scoped>\n",
       "    .dataframe tbody tr th:only-of-type {\n",
       "        vertical-align: middle;\n",
       "    }\n",
       "\n",
       "    .dataframe tbody tr th {\n",
       "        vertical-align: top;\n",
       "    }\n",
       "\n",
       "    .dataframe thead th {\n",
       "        text-align: right;\n",
       "    }\n",
       "</style>\n",
       "<table border=\"1\" class=\"dataframe\">\n",
       "  <thead>\n",
       "    <tr style=\"text-align: right;\">\n",
       "      <th></th>\n",
       "      <th>protein_id</th>\n",
       "      <th>AA</th>\n",
       "      <th>position</th>\n",
       "      <th>ac</th>\n",
       "      <th>ac_reg</th>\n",
       "      <th>ga</th>\n",
       "      <th>gl</th>\n",
       "      <th>gl_reg</th>\n",
       "      <th>m</th>\n",
       "      <th>m_reg</th>\n",
       "      <th>p</th>\n",
       "      <th>p_reg</th>\n",
       "      <th>sm</th>\n",
       "      <th>sm_reg</th>\n",
       "      <th>ub</th>\n",
       "      <th>ub_reg</th>\n",
       "    </tr>\n",
       "  </thead>\n",
       "  <tbody>\n",
       "    <tr>\n",
       "      <th>0</th>\n",
       "      <td>A0A024R5B6</td>\n",
       "      <td>K</td>\n",
       "      <td>43</td>\n",
       "      <td>0</td>\n",
       "      <td>0</td>\n",
       "      <td>0</td>\n",
       "      <td>0</td>\n",
       "      <td>0</td>\n",
       "      <td>0</td>\n",
       "      <td>0</td>\n",
       "      <td>0</td>\n",
       "      <td>0</td>\n",
       "      <td>0</td>\n",
       "      <td>0</td>\n",
       "      <td>1</td>\n",
       "      <td>1</td>\n",
       "    </tr>\n",
       "    <tr>\n",
       "      <th>1</th>\n",
       "      <td>A0A024RBG1</td>\n",
       "      <td>K</td>\n",
       "      <td>128</td>\n",
       "      <td>0</td>\n",
       "      <td>0</td>\n",
       "      <td>0</td>\n",
       "      <td>0</td>\n",
       "      <td>0</td>\n",
       "      <td>0</td>\n",
       "      <td>0</td>\n",
       "      <td>0</td>\n",
       "      <td>0</td>\n",
       "      <td>0</td>\n",
       "      <td>0</td>\n",
       "      <td>1</td>\n",
       "      <td>0</td>\n",
       "    </tr>\n",
       "    <tr>\n",
       "      <th>2</th>\n",
       "      <td>A0A024RBG1</td>\n",
       "      <td>K</td>\n",
       "      <td>134</td>\n",
       "      <td>0</td>\n",
       "      <td>0</td>\n",
       "      <td>0</td>\n",
       "      <td>0</td>\n",
       "      <td>0</td>\n",
       "      <td>0</td>\n",
       "      <td>0</td>\n",
       "      <td>0</td>\n",
       "      <td>0</td>\n",
       "      <td>0</td>\n",
       "      <td>0</td>\n",
       "      <td>1</td>\n",
       "      <td>0</td>\n",
       "    </tr>\n",
       "    <tr>\n",
       "      <th>3</th>\n",
       "      <td>A0A024RBG1</td>\n",
       "      <td>K</td>\n",
       "      <td>143</td>\n",
       "      <td>0</td>\n",
       "      <td>0</td>\n",
       "      <td>0</td>\n",
       "      <td>0</td>\n",
       "      <td>0</td>\n",
       "      <td>0</td>\n",
       "      <td>0</td>\n",
       "      <td>0</td>\n",
       "      <td>0</td>\n",
       "      <td>0</td>\n",
       "      <td>0</td>\n",
       "      <td>1</td>\n",
       "      <td>0</td>\n",
       "    </tr>\n",
       "    <tr>\n",
       "      <th>4</th>\n",
       "      <td>A0A024RBG1</td>\n",
       "      <td>K</td>\n",
       "      <td>5</td>\n",
       "      <td>0</td>\n",
       "      <td>0</td>\n",
       "      <td>0</td>\n",
       "      <td>0</td>\n",
       "      <td>0</td>\n",
       "      <td>0</td>\n",
       "      <td>0</td>\n",
       "      <td>0</td>\n",
       "      <td>0</td>\n",
       "      <td>0</td>\n",
       "      <td>0</td>\n",
       "      <td>1</td>\n",
       "      <td>0</td>\n",
       "    </tr>\n",
       "    <tr>\n",
       "      <th>...</th>\n",
       "      <td>...</td>\n",
       "      <td>...</td>\n",
       "      <td>...</td>\n",
       "      <td>...</td>\n",
       "      <td>...</td>\n",
       "      <td>...</td>\n",
       "      <td>...</td>\n",
       "      <td>...</td>\n",
       "      <td>...</td>\n",
       "      <td>...</td>\n",
       "      <td>...</td>\n",
       "      <td>...</td>\n",
       "      <td>...</td>\n",
       "      <td>...</td>\n",
       "      <td>...</td>\n",
       "      <td>...</td>\n",
       "    </tr>\n",
       "    <tr>\n",
       "      <th>369206</th>\n",
       "      <td>Q9Y6Z7</td>\n",
       "      <td>K</td>\n",
       "      <td>97</td>\n",
       "      <td>1</td>\n",
       "      <td>0</td>\n",
       "      <td>0</td>\n",
       "      <td>0</td>\n",
       "      <td>0</td>\n",
       "      <td>0</td>\n",
       "      <td>0</td>\n",
       "      <td>0</td>\n",
       "      <td>0</td>\n",
       "      <td>0</td>\n",
       "      <td>0</td>\n",
       "      <td>0</td>\n",
       "      <td>0</td>\n",
       "    </tr>\n",
       "    <tr>\n",
       "      <th>369207</th>\n",
       "      <td>Q9Y6Z7</td>\n",
       "      <td>S</td>\n",
       "      <td>141</td>\n",
       "      <td>0</td>\n",
       "      <td>0</td>\n",
       "      <td>0</td>\n",
       "      <td>0</td>\n",
       "      <td>0</td>\n",
       "      <td>0</td>\n",
       "      <td>0</td>\n",
       "      <td>1</td>\n",
       "      <td>0</td>\n",
       "      <td>0</td>\n",
       "      <td>0</td>\n",
       "      <td>0</td>\n",
       "      <td>0</td>\n",
       "    </tr>\n",
       "    <tr>\n",
       "      <th>369208</th>\n",
       "      <td>Q9Y6Z7</td>\n",
       "      <td>T</td>\n",
       "      <td>155</td>\n",
       "      <td>0</td>\n",
       "      <td>0</td>\n",
       "      <td>0</td>\n",
       "      <td>0</td>\n",
       "      <td>0</td>\n",
       "      <td>0</td>\n",
       "      <td>0</td>\n",
       "      <td>1</td>\n",
       "      <td>0</td>\n",
       "      <td>0</td>\n",
       "      <td>0</td>\n",
       "      <td>0</td>\n",
       "      <td>0</td>\n",
       "    </tr>\n",
       "    <tr>\n",
       "      <th>369209</th>\n",
       "      <td>Q9YNA8</td>\n",
       "      <td>S</td>\n",
       "      <td>465</td>\n",
       "      <td>0</td>\n",
       "      <td>0</td>\n",
       "      <td>0</td>\n",
       "      <td>0</td>\n",
       "      <td>0</td>\n",
       "      <td>0</td>\n",
       "      <td>0</td>\n",
       "      <td>1</td>\n",
       "      <td>0</td>\n",
       "      <td>0</td>\n",
       "      <td>0</td>\n",
       "      <td>0</td>\n",
       "      <td>0</td>\n",
       "    </tr>\n",
       "    <tr>\n",
       "      <th>369210</th>\n",
       "      <td>S5FZ81</td>\n",
       "      <td>S</td>\n",
       "      <td>376</td>\n",
       "      <td>0</td>\n",
       "      <td>0</td>\n",
       "      <td>0</td>\n",
       "      <td>0</td>\n",
       "      <td>0</td>\n",
       "      <td>0</td>\n",
       "      <td>0</td>\n",
       "      <td>1</td>\n",
       "      <td>0</td>\n",
       "      <td>0</td>\n",
       "      <td>0</td>\n",
       "      <td>0</td>\n",
       "      <td>0</td>\n",
       "    </tr>\n",
       "  </tbody>\n",
       "</table>\n",
       "<p>369211 rows × 16 columns</p>\n",
       "</div>"
      ],
      "text/plain": [
       "        protein_id AA position  ac  ac_reg  ga  gl  gl_reg  m  m_reg  p  \\\n",
       "0       A0A024R5B6  K       43   0       0   0   0       0  0      0  0   \n",
       "1       A0A024RBG1  K      128   0       0   0   0       0  0      0  0   \n",
       "2       A0A024RBG1  K      134   0       0   0   0       0  0      0  0   \n",
       "3       A0A024RBG1  K      143   0       0   0   0       0  0      0  0   \n",
       "4       A0A024RBG1  K        5   0       0   0   0       0  0      0  0   \n",
       "...            ... ..      ...  ..     ...  ..  ..     ... ..    ... ..   \n",
       "369206      Q9Y6Z7  K       97   1       0   0   0       0  0      0  0   \n",
       "369207      Q9Y6Z7  S      141   0       0   0   0       0  0      0  1   \n",
       "369208      Q9Y6Z7  T      155   0       0   0   0       0  0      0  1   \n",
       "369209      Q9YNA8  S      465   0       0   0   0       0  0      0  1   \n",
       "369210      S5FZ81  S      376   0       0   0   0       0  0      0  1   \n",
       "\n",
       "        p_reg  sm  sm_reg  ub  ub_reg  \n",
       "0           0   0       0   1       1  \n",
       "1           0   0       0   1       0  \n",
       "2           0   0       0   1       0  \n",
       "3           0   0       0   1       0  \n",
       "4           0   0       0   1       0  \n",
       "...       ...  ..     ...  ..     ...  \n",
       "369206      0   0       0   0       0  \n",
       "369207      0   0       0   0       0  \n",
       "369208      0   0       0   0       0  \n",
       "369209      0   0       0   0       0  \n",
       "369210      0   0       0   0       0  \n",
       "\n",
       "[369211 rows x 16 columns]"
      ]
     },
     "execution_count": 56,
     "metadata": {},
     "output_type": "execute_result"
    }
   ],
   "source": [
    "ptm_annotation_grouped"
   ]
  },
  {
   "cell_type": "code",
   "execution_count": 57,
   "metadata": {},
   "outputs": [],
   "source": [
    "#ptm_annotation_grouped[ptm_annotation_grouped.protein_id=='Q9UBS5']"
   ]
  },
  {
   "cell_type": "markdown",
   "metadata": {},
   "source": [
    "## Add phosphosite to p if there is an annotated regulatory phosphosite"
   ]
  },
  {
   "cell_type": "markdown",
   "metadata": {},
   "source": [
    "Apparently there are some misannotations of there regulatory sites in phosphositeplus"
   ]
  },
  {
   "cell_type": "code",
   "execution_count": 58,
   "metadata": {},
   "outputs": [
    {
     "name": "stdout",
     "output_type": "stream",
     "text": [
      "239588\n",
      "9324\n",
      "5\n"
     ]
    }
   ],
   "source": [
    "print(ptm_annotation_grouped[ptm_annotation_grouped.p==1].shape[0])\n",
    "print(ptm_annotation_grouped[ptm_annotation_grouped.p_reg==1].shape[0])\n",
    "print(ptm_annotation_grouped[(ptm_annotation_grouped.p==0) & (ptm_annotation_grouped.p_reg==1)].shape[0])"
   ]
  },
  {
   "cell_type": "code",
   "execution_count": 59,
   "metadata": {},
   "outputs": [],
   "source": [
    "ptm_annotation_grouped['p'] = np.where(ptm_annotation_grouped.p_reg == 1, 1, ptm_annotation_grouped.p)\n",
    "ptm_annotation_grouped['ub'] = np.where(ptm_annotation_grouped.ub_reg == 1, 1, ptm_annotation_grouped.ub)\n",
    "ptm_annotation_grouped['ac'] = np.where(ptm_annotation_grouped.ac_reg == 1, 1, ptm_annotation_grouped.ac)\n",
    "ptm_annotation_grouped['sm'] = np.where(ptm_annotation_grouped.sm_reg == 1, 1, ptm_annotation_grouped.sm)\n",
    "ptm_annotation_grouped['gl'] = np.where(ptm_annotation_grouped.gl_reg == 1, 1, ptm_annotation_grouped.gl)"
   ]
  },
  {
   "cell_type": "code",
   "execution_count": 60,
   "metadata": {},
   "outputs": [
    {
     "name": "stdout",
     "output_type": "stream",
     "text": [
      "239593\n",
      "9324\n",
      "0\n"
     ]
    }
   ],
   "source": [
    "print(ptm_annotation_grouped[ptm_annotation_grouped.p==1].shape[0])\n",
    "print(ptm_annotation_grouped[ptm_annotation_grouped.p_reg==1].shape[0])\n",
    "print(ptm_annotation_grouped[(ptm_annotation_grouped.p==0) & (ptm_annotation_grouped.p_reg==1)].shape[0])"
   ]
  },
  {
   "cell_type": "code",
   "execution_count": 61,
   "metadata": {},
   "outputs": [],
   "source": [
    "# ptm_annotation_grouped[ptm_annotation_grouped.protein_id=='Q9UBS5']"
   ]
  },
  {
   "cell_type": "code",
   "execution_count": 62,
   "metadata": {},
   "outputs": [
    {
     "data": {
      "text/html": [
       "<div>\n",
       "<style scoped>\n",
       "    .dataframe tbody tr th:only-of-type {\n",
       "        vertical-align: middle;\n",
       "    }\n",
       "\n",
       "    .dataframe tbody tr th {\n",
       "        vertical-align: top;\n",
       "    }\n",
       "\n",
       "    .dataframe thead th {\n",
       "        text-align: right;\n",
       "    }\n",
       "</style>\n",
       "<table border=\"1\" class=\"dataframe\">\n",
       "  <thead>\n",
       "    <tr style=\"text-align: right;\">\n",
       "      <th></th>\n",
       "      <th>protein_id</th>\n",
       "      <th>AA</th>\n",
       "      <th>position</th>\n",
       "      <th>ac</th>\n",
       "      <th>ac_reg</th>\n",
       "      <th>ga</th>\n",
       "      <th>gl</th>\n",
       "      <th>gl_reg</th>\n",
       "      <th>m</th>\n",
       "      <th>m_reg</th>\n",
       "      <th>p</th>\n",
       "      <th>p_reg</th>\n",
       "      <th>sm</th>\n",
       "      <th>sm_reg</th>\n",
       "      <th>ub</th>\n",
       "      <th>ub_reg</th>\n",
       "    </tr>\n",
       "  </thead>\n",
       "  <tbody>\n",
       "    <tr>\n",
       "      <th>0</th>\n",
       "      <td>A0A024R5B6</td>\n",
       "      <td>K</td>\n",
       "      <td>43</td>\n",
       "      <td>0</td>\n",
       "      <td>0</td>\n",
       "      <td>0</td>\n",
       "      <td>0</td>\n",
       "      <td>0</td>\n",
       "      <td>0</td>\n",
       "      <td>0</td>\n",
       "      <td>0</td>\n",
       "      <td>0</td>\n",
       "      <td>0</td>\n",
       "      <td>0</td>\n",
       "      <td>1</td>\n",
       "      <td>1</td>\n",
       "    </tr>\n",
       "    <tr>\n",
       "      <th>1</th>\n",
       "      <td>A0A024RBG1</td>\n",
       "      <td>K</td>\n",
       "      <td>128</td>\n",
       "      <td>0</td>\n",
       "      <td>0</td>\n",
       "      <td>0</td>\n",
       "      <td>0</td>\n",
       "      <td>0</td>\n",
       "      <td>0</td>\n",
       "      <td>0</td>\n",
       "      <td>0</td>\n",
       "      <td>0</td>\n",
       "      <td>0</td>\n",
       "      <td>0</td>\n",
       "      <td>1</td>\n",
       "      <td>0</td>\n",
       "    </tr>\n",
       "    <tr>\n",
       "      <th>2</th>\n",
       "      <td>A0A024RBG1</td>\n",
       "      <td>K</td>\n",
       "      <td>134</td>\n",
       "      <td>0</td>\n",
       "      <td>0</td>\n",
       "      <td>0</td>\n",
       "      <td>0</td>\n",
       "      <td>0</td>\n",
       "      <td>0</td>\n",
       "      <td>0</td>\n",
       "      <td>0</td>\n",
       "      <td>0</td>\n",
       "      <td>0</td>\n",
       "      <td>0</td>\n",
       "      <td>1</td>\n",
       "      <td>0</td>\n",
       "    </tr>\n",
       "  </tbody>\n",
       "</table>\n",
       "</div>"
      ],
      "text/plain": [
       "   protein_id AA position  ac  ac_reg  ga  gl  gl_reg  m  m_reg  p  p_reg  sm  \\\n",
       "0  A0A024R5B6  K       43   0       0   0   0       0  0      0  0      0   0   \n",
       "1  A0A024RBG1  K      128   0       0   0   0       0  0      0  0      0   0   \n",
       "2  A0A024RBG1  K      134   0       0   0   0       0  0      0  0      0   0   \n",
       "\n",
       "   sm_reg  ub  ub_reg  \n",
       "0       0   1       1  \n",
       "1       0   1       0  \n",
       "2       0   1       0  "
      ]
     },
     "execution_count": 62,
     "metadata": {},
     "output_type": "execute_result"
    }
   ],
   "source": [
    "ptm_annotation_grouped[0:3]"
   ]
  },
  {
   "cell_type": "markdown",
   "metadata": {},
   "source": [
    "## Write outfile"
   ]
  },
  {
   "cell_type": "code",
   "execution_count": 63,
   "metadata": {},
   "outputs": [],
   "source": [
    "ptm_annotation_grouped.to_csv('../data/ptm_data/phosphositeplus_annotation.csv', index=False)"
   ]
  },
  {
   "cell_type": "code",
   "execution_count": 64,
   "metadata": {},
   "outputs": [
    {
     "data": {
      "text/plain": [
       "9324"
      ]
     },
     "execution_count": 64,
     "metadata": {},
     "output_type": "execute_result"
    }
   ],
   "source": [
    "ptm_annotation_grouped[ptm_annotation_grouped.p_reg==1].shape[0]"
   ]
  },
  {
   "cell_type": "code",
   "execution_count": 65,
   "metadata": {},
   "outputs": [
    {
     "data": {
      "text/plain": [
       "481"
      ]
     },
     "execution_count": 65,
     "metadata": {},
     "output_type": "execute_result"
    }
   ],
   "source": [
    "ptm_annotation_grouped[ptm_annotation_grouped.ub_reg==1].shape[0]"
   ]
  },
  {
   "cell_type": "code",
   "execution_count": 66,
   "metadata": {},
   "outputs": [
    {
     "data": {
      "text/plain": [
       "668"
      ]
     },
     "execution_count": 66,
     "metadata": {},
     "output_type": "execute_result"
    }
   ],
   "source": [
    "ptm_annotation_grouped[ptm_annotation_grouped.ac_reg==1].shape[0]"
   ]
  },
  {
   "cell_type": "code",
   "execution_count": 67,
   "metadata": {},
   "outputs": [
    {
     "data": {
      "text/plain": [
       "490"
      ]
     },
     "execution_count": 67,
     "metadata": {},
     "output_type": "execute_result"
    }
   ],
   "source": [
    "ptm_annotation_grouped[ptm_annotation_grouped.sm_reg==1].shape[0]"
   ]
  },
  {
   "cell_type": "code",
   "execution_count": 68,
   "metadata": {},
   "outputs": [
    {
     "data": {
      "text/plain": [
       "26"
      ]
     },
     "execution_count": 68,
     "metadata": {},
     "output_type": "execute_result"
    }
   ],
   "source": [
    "ptm_annotation_grouped[ptm_annotation_grouped.gl_reg==1].shape[0]"
   ]
  },
  {
   "cell_type": "code",
   "execution_count": null,
   "metadata": {},
   "outputs": [],
   "source": []
  }
 ],
 "metadata": {
  "kernelspec": {
   "display_name": "Python [conda env:alphamap_fold]",
   "language": "python",
   "name": "conda-env-alphamap_fold-py"
  },
  "language_info": {
   "codemirror_mode": {
    "name": "ipython",
    "version": 3
   },
   "file_extension": ".py",
   "mimetype": "text/x-python",
   "name": "python",
   "nbconvert_exporter": "python",
   "pygments_lexer": "ipython3",
   "version": "3.8.12"
  }
 },
 "nbformat": 4,
 "nbformat_minor": 2
}
